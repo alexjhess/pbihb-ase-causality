{
  "nbformat": 4,
  "nbformat_minor": 0,
  "metadata": {
    "colab": {
      "provenance": [],
      "authorship_tag": "ABX9TyNWd76hg3f/7KPMGAqxFfJD",
      "include_colab_link": true
    },
    "kernelspec": {
      "name": "ir",
      "display_name": "R"
    },
    "language_info": {
      "name": "R"
    }
  },
  "cells": [
    {
      "cell_type": "markdown",
      "metadata": {
        "id": "view-in-github",
        "colab_type": "text"
      },
      "source": [
        "<a href=\"https://colab.research.google.com/github/alexjhess/pbihb-ase-causality/blob/main/colab/main.ipynb\" target=\"_parent\"><img src=\"https://colab.research.google.com/assets/colab-badge.svg\" alt=\"Open In Colab\"/></a>"
      ]
    },
    {
      "cell_type": "markdown",
      "source": [
        "# Analysis Code for PBIHB ASE Causality Project"
      ],
      "metadata": {
        "id": "gy8M8TgYTnmB"
      }
    },
    {
      "cell_type": "markdown",
      "source": [
        "## Setup"
      ],
      "metadata": {
        "id": "tY47SS3ZVW04"
      }
    },
    {
      "cell_type": "code",
      "execution_count": null,
      "metadata": {
        "id": "OwoYx6iNJZC-"
      },
      "outputs": [],
      "source": [
        "# set seed of rng\n",
        "set.seed(123)"
      ]
    },
    {
      "cell_type": "code",
      "source": [
        "# install packages (only needed when using colab)\n",
        "# if not needed, change value of needed from TRUE to FASLE and run cell\n",
        "needed <- TRUE\n",
        "\n",
        "if (needed) {\n",
        "  # H1\n",
        "  install.packages('bnlearn')\n",
        "  install.packages('GeneralisedCovarianceMeasure')\n",
        "  install.packages('CondIndTests')\n",
        "  # H2 & H3\n",
        "  install.packages('ipw')\n",
        "  install.packages('survey')\n",
        "  install.packages('DoubleML')\n",
        "  install.packages('mlr3')\n",
        "  install.packages('mlr3learners')\n",
        "  install.packages('ranger')\n",
        "}"
      ],
      "metadata": {
        "colab": {
          "base_uri": "https://localhost:8080/"
        },
        "id": "804bwSE6YrZ6",
        "outputId": "6b29d55b-45a3-42f5-ace7-0987105f174a"
      },
      "execution_count": 26,
      "outputs": [
        {
          "output_type": "stream",
          "name": "stderr",
          "text": [
            "Installing package into ‘/usr/local/lib/R/site-library’\n",
            "(as ‘lib’ is unspecified)\n",
            "\n",
            "Installing package into ‘/usr/local/lib/R/site-library’\n",
            "(as ‘lib’ is unspecified)\n",
            "\n",
            "Installing package into ‘/usr/local/lib/R/site-library’\n",
            "(as ‘lib’ is unspecified)\n",
            "\n",
            "Installing package into ‘/usr/local/lib/R/site-library’\n",
            "(as ‘lib’ is unspecified)\n",
            "\n",
            "Installing package into ‘/usr/local/lib/R/site-library’\n",
            "(as ‘lib’ is unspecified)\n",
            "\n",
            "Installing package into ‘/usr/local/lib/R/site-library’\n",
            "(as ‘lib’ is unspecified)\n",
            "\n",
            "Installing package into ‘/usr/local/lib/R/site-library’\n",
            "(as ‘lib’ is unspecified)\n",
            "\n",
            "Installing package into ‘/usr/local/lib/R/site-library’\n",
            "(as ‘lib’ is unspecified)\n",
            "\n",
            "Installing package into ‘/usr/local/lib/R/site-library’\n",
            "(as ‘lib’ is unspecified)\n",
            "\n"
          ]
        }
      ]
    },
    {
      "cell_type": "markdown",
      "source": [],
      "metadata": {
        "id": "4Kx_5A5JYoPj"
      }
    },
    {
      "cell_type": "markdown",
      "source": [
        "## Data set"
      ],
      "metadata": {
        "id": "HTHDw_SmWrz0"
      }
    },
    {
      "cell_type": "code",
      "source": [
        "# load data set\n",
        "ase_pbihb_data <- read.csv('https://raw.githubusercontent.com/alexjhess/pbihb-ase-causality/main/data/ase_pbihb_data.txt')"
      ],
      "metadata": {
        "id": "wsaCwl4HLfve"
      },
      "execution_count": 27,
      "outputs": []
    },
    {
      "cell_type": "code",
      "source": [
        "# select subset of vars\n",
        "ase_pbihb_data <- subset(ase_pbihb_data, select = -c(9, 10))\n",
        "\n",
        "## bring data into correct format\n",
        "dat <- transform(ase_pbihb_data, gender = as.factor(gender),\n",
        "                 age = as.numeric(age), FSS = as.numeric(FSS),\n",
        "                 MAIA_38 = as.numeric(MAIA_38), GSES = as.numeric(GSES),\n",
        "                 CESD = as.numeric(CESD))\n",
        "\n",
        "## standardize variables (subtract mean, divide by stdev)\n",
        "ase_pbihb_data <- data.frame(scale(ase_pbihb_data))\n",
        "ase_pbihb_data <- transform(ase_pbihb_data, gender = as.factor(gender),\n",
        "                            age = as.numeric(age), FSS = as.numeric(FSS),\n",
        "                            MAIA_38 = as.numeric(MAIA_38), GSES = as.numeric(GSES),\n",
        "                            CESD = as.numeric(CESD))\n",
        "\n",
        "# visualise: matrix of scatterplots\n",
        "pairs(dat[, c(1:6)],\n",
        "      labels = c(\"gender\", \"age\", \"FSS\", \"MAIA_38\", \"GSES\", \"CES-D\"),\n",
        "      font.labels = 1\n",
        "      )"
      ],
      "metadata": {
        "colab": {
          "base_uri": "https://localhost:8080/",
          "height": 437
        },
        "id": "zkv_49DuLknx",
        "outputId": "54a55ce2-7341-400d-b48a-affb717fef2e"
      },
      "execution_count": 28,
      "outputs": [
        {
          "output_type": "display_data",
          "data": {
            "text/plain": [
              "plot without title"
            ],
            "image/png": "[encoded data removed]"
          },
          "metadata": {
            "image/png": {
              "width": 420,
              "height": 420
            }
          }
        }
      ]
    },
    {
      "cell_type": "markdown",
      "source": [
        "___\n",
        "## Hypothesis 1"
      ],
      "metadata": {
        "id": "2KfeaFq2UD99"
      }
    },
    {
      "cell_type": "code",
      "source": [
        "## load packages for cond ind tests\n",
        "library(bnlearn) #mi-cg\n",
        "library(GeneralisedCovarianceMeasure) #GCM\n",
        "library(CondIndTests) #KCI"
      ],
      "metadata": {
        "id": "Z8RNYaXaKC_q"
      },
      "execution_count": 29,
      "outputs": []
    },
    {
      "cell_type": "markdown",
      "source": [
        "### i)"
      ],
      "metadata": {
        "id": "K86NoDAeZlTx"
      }
    },
    {
      "cell_type": "code",
      "source": [
        "# M d-sep S | A,G\n",
        "ci.test(x=\"MAIA_38\", y=\"GSES\", z=c(\"age\",\"gender\"), data=dat,\n",
        "        test=\"mi-cg\")\n",
        "\n"
      ],
      "metadata": {
        "colab": {
          "base_uri": "https://localhost:8080/",
          "height": 121
        },
        "id": "I34V9m4RLOhJ",
        "outputId": "d1f0277c-a5eb-4f61-e4aa-2d5f831fed1d"
      },
      "execution_count": 30,
      "outputs": [
        {
          "output_type": "display_data",
          "data": {
            "text/plain": [
              "\n",
              "\tMutual Information (cond. Gauss.)\n",
              "\n",
              "data:  MAIA_38 ~ GSES | age + gender\n",
              "mi-cg = 22.044, df = 2, p-value = 1.634e-05\n",
              "alternative hypothesis: true value is greater than 0\n"
            ]
          },
          "metadata": {}
        }
      ]
    },
    {
      "cell_type": "code",
      "source": [
        "gcm.test(X=dat$MAIA_38, Y=dat$GSES, Z=cbind(dat$age, dat$gender), alpha = 0.01)"
      ],
      "metadata": {
        "colab": {
          "base_uri": "https://localhost:8080/",
          "height": 149
        },
        "id": "e7gRRKwFPGZ6",
        "outputId": "fb1b40d7-9851-4afc-ee13-287fdb4d1f89"
      },
      "execution_count": 31,
      "outputs": [
        {
          "output_type": "display_data",
          "data": {
            "text/html": [
              "<dl>\n",
              "\t<dt>$p.value</dt>\n",
              "\t\t<dd>2.10351673414017e-05</dd>\n",
              "\t<dt>$test.statistic</dt>\n",
              "\t\t<dd>4.25360984989096</dd>\n",
              "\t<dt>$reject</dt>\n",
              "\t\t<dd>TRUE</dd>\n",
              "</dl>\n"
            ],
            "text/markdown": "$p.value\n:   2.10351673414017e-05\n$test.statistic\n:   4.25360984989096\n$reject\n:   TRUE\n\n\n",
            "text/latex": "\\begin{description}\n\\item[\\$p.value] 2.10351673414017e-05\n\\item[\\$test.statistic] 4.25360984989096\n\\item[\\$reject] TRUE\n\\end{description}\n",
            "text/plain": [
              "$p.value\n",
              "[1] 2.103517e-05\n",
              "\n",
              "$test.statistic\n",
              "[1] 4.25361\n",
              "\n",
              "$reject\n",
              "[1] TRUE\n"
            ]
          },
          "metadata": {}
        }
      ]
    },
    {
      "cell_type": "code",
      "source": [
        "CondIndTest(Y=dat$MAIA_38, E=dat$GSES, X=cbind(dat$age, dat$gender),\n",
        "            method = \"KCI\", alpha = 0.01, # \"KCI\", \"InvariantConditionalQuantilePredict\"InvariantEnvironmentPrediction\", \"InvariantResidualDistributionTest\", \"InvariantTargetPrediction\", \"ResidualPredictionTest\"\n",
        "            parsMethod = list(), verbose = FALSE)"
      ],
      "metadata": {
        "colab": {
          "base_uri": "https://localhost:8080/",
          "height": 229
        },
        "id": "w82A10GxPGsZ",
        "outputId": "75c7d87a-f3eb-4f71-b17c-a5056b20948c"
      },
      "execution_count": 32,
      "outputs": [
        {
          "output_type": "display_data",
          "data": {
            "text/html": [
              "<dl>\n",
              "\t<dt>$Y1</dt>\n",
              "\t\t<dd><dl>\n",
              "\t<dt>$testStatistic</dt>\n",
              "\t\t<dd>26.4507932531511</dd>\n",
              "\t<dt>$criticalValue</dt>\n",
              "\t\t<dd>11.0410993042515</dd>\n",
              "\t<dt>$pvalue_individual</dt>\n",
              "\t\t<dd>5.19449205060862e-06</dd>\n",
              "</dl>\n",
              "</dd>\n",
              "\t<dt>$pvalue</dt>\n",
              "\t\t<dd>5.19449205060862e-06</dd>\n",
              "</dl>\n"
            ],
            "text/markdown": "$Y1\n:   $testStatistic\n:   26.4507932531511\n$criticalValue\n:   11.0410993042515\n$pvalue_individual\n:   5.19449205060862e-06\n\n\n\n$pvalue\n:   5.19449205060862e-06\n\n\n",
            "text/latex": "\\begin{description}\n\\item[\\$Y1] \\begin{description}\n\\item[\\$testStatistic] 26.4507932531511\n\\item[\\$criticalValue] 11.0410993042515\n\\item[\\$pvalue\\_individual] 5.19449205060862e-06\n\\end{description}\n\n\\item[\\$pvalue] 5.19449205060862e-06\n\\end{description}\n",
            "text/plain": [
              "$Y1\n",
              "$Y1$testStatistic\n",
              "[1] 26.45079\n",
              "\n",
              "$Y1$criticalValue\n",
              "[1] 11.0411\n",
              "\n",
              "$Y1$pvalue_individual\n",
              "[1] 5.194492e-06\n",
              "\n",
              "\n",
              "$pvalue\n",
              "[1] 5.194492e-06\n"
            ]
          },
          "metadata": {}
        }
      ]
    },
    {
      "cell_type": "markdown",
      "source": [
        "### ii)"
      ],
      "metadata": {
        "id": "fzmwyl6NZpou"
      }
    },
    {
      "cell_type": "code",
      "source": [
        "# M d-sep D | F, A, G\n",
        "ci.test(x=\"MAIA_38\", y=\"CESD\", z=c(\"FSS\",\"age\",\"gender\"), data=dat,\n",
        "              test=\"mi-cg\")\n",
        "gcm.test(X=dat$MAIA_38, Y=dat$CESD, Z=cbind(dat$FSS, dat$age, dat$gender), alpha = 0.01)\n",
        "CondIndTest(Y=dat$MAIA_38, E=dat$CESD, X=cbind(dat$FSS, dat$age, dat$gender),\n",
        "            method = \"KCI\", alpha = 0.01,\n",
        "            parsMethod = list(), verbose = FALSE)"
      ],
      "metadata": {
        "colab": {
          "base_uri": "https://localhost:8080/",
          "height": 452
        },
        "id": "g1eXzwQvSvNH",
        "outputId": "d7be800b-1c16-476d-ac2a-d0a8e30dfdec"
      },
      "execution_count": 33,
      "outputs": [
        {
          "output_type": "display_data",
          "data": {
            "text/plain": [
              "\n",
              "\tMutual Information (cond. Gauss.)\n",
              "\n",
              "data:  MAIA_38 ~ CESD | FSS + age + gender\n",
              "mi-cg = 24.167, df = 2, p-value = 5.652e-06\n",
              "alternative hypothesis: true value is greater than 0\n"
            ]
          },
          "metadata": {}
        },
        {
          "output_type": "display_data",
          "data": {
            "text/html": [
              "<dl>\n",
              "\t<dt>$p.value</dt>\n",
              "\t\t<dd>0.00174263789697648</dd>\n",
              "\t<dt>$test.statistic</dt>\n",
              "\t\t<dd>-3.13091297875912</dd>\n",
              "\t<dt>$reject</dt>\n",
              "\t\t<dd>TRUE</dd>\n",
              "</dl>\n"
            ],
            "text/markdown": "$p.value\n:   0.00174263789697648\n$test.statistic\n:   -3.13091297875912\n$reject\n:   TRUE\n\n\n",
            "text/latex": "\\begin{description}\n\\item[\\$p.value] 0.00174263789697648\n\\item[\\$test.statistic] -3.13091297875912\n\\item[\\$reject] TRUE\n\\end{description}\n",
            "text/plain": [
              "$p.value\n",
              "[1] 0.001742638\n",
              "\n",
              "$test.statistic\n",
              "[1] -3.130913\n",
              "\n",
              "$reject\n",
              "[1] TRUE\n"
            ]
          },
          "metadata": {}
        },
        {
          "output_type": "display_data",
          "data": {
            "text/html": [
              "<dl>\n",
              "\t<dt>$Y1</dt>\n",
              "\t\t<dd><dl>\n",
              "\t<dt>$testStatistic</dt>\n",
              "\t\t<dd>8.51268835187651</dd>\n",
              "\t<dt>$criticalValue</dt>\n",
              "\t\t<dd>6.12929576479623</dd>\n",
              "\t<dt>$pvalue_individual</dt>\n",
              "\t\t<dd>0.00134577992291873</dd>\n",
              "</dl>\n",
              "</dd>\n",
              "\t<dt>$pvalue</dt>\n",
              "\t\t<dd>0.00134577992291873</dd>\n",
              "</dl>\n"
            ],
            "text/markdown": "$Y1\n:   $testStatistic\n:   8.51268835187651\n$criticalValue\n:   6.12929576479623\n$pvalue_individual\n:   0.00134577992291873\n\n\n\n$pvalue\n:   0.00134577992291873\n\n\n",
            "text/latex": "\\begin{description}\n\\item[\\$Y1] \\begin{description}\n\\item[\\$testStatistic] 8.51268835187651\n\\item[\\$criticalValue] 6.12929576479623\n\\item[\\$pvalue\\_individual] 0.00134577992291873\n\\end{description}\n\n\\item[\\$pvalue] 0.00134577992291873\n\\end{description}\n",
            "text/plain": [
              "$Y1\n",
              "$Y1$testStatistic\n",
              "[1] 8.512688\n",
              "\n",
              "$Y1$criticalValue\n",
              "[1] 6.129296\n",
              "\n",
              "$Y1$pvalue_individual\n",
              "[1] 0.00134578\n",
              "\n",
              "\n",
              "$pvalue\n",
              "[1] 0.00134578\n"
            ]
          },
          "metadata": {}
        }
      ]
    },
    {
      "cell_type": "code",
      "source": [
        "# M d-sep D | F, A, G, S\n",
        "ci.test(x=\"MAIA_38\", y=\"CESD\", z=c(\"FSS\",\"GSES\",\"age\",\"gender\"), data=dat,\n",
        "              test=\"mi-cg\")\n",
        "gcm.test(X=dat$MAIA_38, Y=dat$CESD, Z=cbind(dat$FSS, dat$GSES, dat$age, dat$gender), alpha = 0.01)\n",
        "CondIndTest(Y=dat$MAIA_38, E=dat$CESD, X=cbind(dat$FSS, dat$GSES, dat$age, dat$gender),\n",
        "            method = \"KCI\", alpha = 0.01,\n",
        "            parsMethod = list(), verbose = FALSE)"
      ],
      "metadata": {
        "colab": {
          "base_uri": "https://localhost:8080/",
          "height": 452
        },
        "id": "nZJbU3fTZyTW",
        "outputId": "8a15e909-d325-4095-9410-768aae2987a4"
      },
      "execution_count": 34,
      "outputs": [
        {
          "output_type": "display_data",
          "data": {
            "text/plain": [
              "\n",
              "\tMutual Information (cond. Gauss.)\n",
              "\n",
              "data:  MAIA_38 ~ CESD | FSS + GSES + age + gender\n",
              "mi-cg = 16.883, df = 2, p-value = 0.0002157\n",
              "alternative hypothesis: true value is greater than 0\n"
            ]
          },
          "metadata": {}
        },
        {
          "output_type": "display_data",
          "data": {
            "text/html": [
              "<dl>\n",
              "\t<dt>$p.value</dt>\n",
              "\t\t<dd>0.0100637336985233</dd>\n",
              "\t<dt>$test.statistic</dt>\n",
              "\t\t<dd>-2.57363170111653</dd>\n",
              "\t<dt>$reject</dt>\n",
              "\t\t<dd>FALSE</dd>\n",
              "</dl>\n"
            ],
            "text/markdown": "$p.value\n:   0.0100637336985233\n$test.statistic\n:   -2.57363170111653\n$reject\n:   FALSE\n\n\n",
            "text/latex": "\\begin{description}\n\\item[\\$p.value] 0.0100637336985233\n\\item[\\$test.statistic] -2.57363170111653\n\\item[\\$reject] FALSE\n\\end{description}\n",
            "text/plain": [
              "$p.value\n",
              "[1] 0.01006373\n",
              "\n",
              "$test.statistic\n",
              "[1] -2.573632\n",
              "\n",
              "$reject\n",
              "[1] FALSE\n"
            ]
          },
          "metadata": {}
        },
        {
          "output_type": "display_data",
          "data": {
            "text/html": [
              "<dl>\n",
              "\t<dt>$Y1</dt>\n",
              "\t\t<dd><dl>\n",
              "\t<dt>$testStatistic</dt>\n",
              "\t\t<dd>2.99167804793145</dd>\n",
              "\t<dt>$criticalValue</dt>\n",
              "\t\t<dd>3.647950558379</dd>\n",
              "\t<dt>$pvalue_individual</dt>\n",
              "\t\t<dd>0.0226258069113014</dd>\n",
              "</dl>\n",
              "</dd>\n",
              "\t<dt>$pvalue</dt>\n",
              "\t\t<dd>0.0226258069113014</dd>\n",
              "</dl>\n"
            ],
            "text/markdown": "$Y1\n:   $testStatistic\n:   2.99167804793145\n$criticalValue\n:   3.647950558379\n$pvalue_individual\n:   0.0226258069113014\n\n\n\n$pvalue\n:   0.0226258069113014\n\n\n",
            "text/latex": "\\begin{description}\n\\item[\\$Y1] \\begin{description}\n\\item[\\$testStatistic] 2.99167804793145\n\\item[\\$criticalValue] 3.647950558379\n\\item[\\$pvalue\\_individual] 0.0226258069113014\n\\end{description}\n\n\\item[\\$pvalue] 0.0226258069113014\n\\end{description}\n",
            "text/plain": [
              "$Y1\n",
              "$Y1$testStatistic\n",
              "[1] 2.991678\n",
              "\n",
              "$Y1$criticalValue\n",
              "[1] 3.647951\n",
              "\n",
              "$Y1$pvalue_individual\n",
              "[1] 0.02262581\n",
              "\n",
              "\n",
              "$pvalue\n",
              "[1] 0.02262581\n"
            ]
          },
          "metadata": {}
        }
      ]
    },
    {
      "cell_type": "markdown",
      "source": [
        "### iii)"
      ],
      "metadata": {
        "id": "bfhS_38zZzJg"
      }
    },
    {
      "cell_type": "code",
      "source": [
        "# F d-sep S | A, G\n",
        "ci.test(x=\"FSS\", y=\"GSES\", z=c(\"age\",\"gender\"), data=dat,\n",
        "        test=\"mi-cg\")\n",
        "gcm.test(X=dat$FSS, Y=dat$GSES, Z=cbind(dat$age, dat$gender), alpha = 0.01)\n",
        "CondIndTest(Y=dat$FSS, E=dat$GSES, X=cbind(dat$age, dat$gender),\n",
        "            method = \"KCI\", alpha = 0.01,\n",
        "            parsMethod = list(), verbose = FALSE)"
      ],
      "metadata": {
        "colab": {
          "base_uri": "https://localhost:8080/",
          "height": 452
        },
        "id": "SGGre76wS1tL",
        "outputId": "cf8233e7-0cf5-4411-81a0-fc37bc37537b"
      },
      "execution_count": 35,
      "outputs": [
        {
          "output_type": "display_data",
          "data": {
            "text/plain": [
              "\n",
              "\tMutual Information (cond. Gauss.)\n",
              "\n",
              "data:  FSS ~ GSES | age + gender\n",
              "mi-cg = 13.01, df = 2, p-value = 0.001496\n",
              "alternative hypothesis: true value is greater than 0\n"
            ]
          },
          "metadata": {}
        },
        {
          "output_type": "display_data",
          "data": {
            "text/html": [
              "<dl>\n",
              "\t<dt>$p.value</dt>\n",
              "\t\t<dd>0.00070010187234671</dd>\n",
              "\t<dt>$test.statistic</dt>\n",
              "\t\t<dd>-3.38953924368511</dd>\n",
              "\t<dt>$reject</dt>\n",
              "\t\t<dd>TRUE</dd>\n",
              "</dl>\n"
            ],
            "text/markdown": "$p.value\n:   0.00070010187234671\n$test.statistic\n:   -3.38953924368511\n$reject\n:   TRUE\n\n\n",
            "text/latex": "\\begin{description}\n\\item[\\$p.value] 0.00070010187234671\n\\item[\\$test.statistic] -3.38953924368511\n\\item[\\$reject] TRUE\n\\end{description}\n",
            "text/plain": [
              "$p.value\n",
              "[1] 0.0007001019\n",
              "\n",
              "$test.statistic\n",
              "[1] -3.389539\n",
              "\n",
              "$reject\n",
              "[1] TRUE\n"
            ]
          },
          "metadata": {}
        },
        {
          "output_type": "display_data",
          "data": {
            "text/html": [
              "<dl>\n",
              "\t<dt>$Y1</dt>\n",
              "\t\t<dd><dl>\n",
              "\t<dt>$testStatistic</dt>\n",
              "\t\t<dd>13.6128568354616</dd>\n",
              "\t<dt>$criticalValue</dt>\n",
              "\t\t<dd>9.98429756917917</dd>\n",
              "\t<dt>$pvalue_individual</dt>\n",
              "\t\t<dd>0.00127946599736239</dd>\n",
              "</dl>\n",
              "</dd>\n",
              "\t<dt>$pvalue</dt>\n",
              "\t\t<dd>0.00127946599736239</dd>\n",
              "</dl>\n"
            ],
            "text/markdown": "$Y1\n:   $testStatistic\n:   13.6128568354616\n$criticalValue\n:   9.98429756917917\n$pvalue_individual\n:   0.00127946599736239\n\n\n\n$pvalue\n:   0.00127946599736239\n\n\n",
            "text/latex": "\\begin{description}\n\\item[\\$Y1] \\begin{description}\n\\item[\\$testStatistic] 13.6128568354616\n\\item[\\$criticalValue] 9.98429756917917\n\\item[\\$pvalue\\_individual] 0.00127946599736239\n\\end{description}\n\n\\item[\\$pvalue] 0.00127946599736239\n\\end{description}\n",
            "text/plain": [
              "$Y1\n",
              "$Y1$testStatistic\n",
              "[1] 13.61286\n",
              "\n",
              "$Y1$criticalValue\n",
              "[1] 9.984298\n",
              "\n",
              "$Y1$pvalue_individual\n",
              "[1] 0.001279466\n",
              "\n",
              "\n",
              "$pvalue\n",
              "[1] 0.001279466\n"
            ]
          },
          "metadata": {}
        }
      ]
    },
    {
      "cell_type": "code",
      "source": [
        "# F d-sep S | A, G, M\n",
        "ci.test(x=\"FSS\", y=\"GSES\", z=c(\"MAIA_38\",\"age\",\"gender\"), data=dat,\n",
        "        test=\"mi-cg\")\n",
        "gcm.test(X=dat$FSS, Y=dat$GSES, Z=cbind(dat$MAIA_38, dat$age, dat$gender), alpha = 0.01)\n",
        "CondIndTest(Y=dat$FSS, E=dat$GSES, X=cbind(dat$MAIA_38, dat$age, dat$gender),\n",
        "            method = \"KCI\", alpha = 0.01,\n",
        "            parsMethod = list(), verbose = FALSE)"
      ],
      "metadata": {
        "colab": {
          "base_uri": "https://localhost:8080/",
          "height": 452
        },
        "id": "5_gu2LpOZ5JH",
        "outputId": "573deee9-03a0-4019-a94e-7707ac201769"
      },
      "execution_count": 36,
      "outputs": [
        {
          "output_type": "display_data",
          "data": {
            "text/plain": [
              "\n",
              "\tMutual Information (cond. Gauss.)\n",
              "\n",
              "data:  FSS ~ GSES | MAIA_38 + age + gender\n",
              "mi-cg = 4.0568, df = 2, p-value = 0.1315\n",
              "alternative hypothesis: true value is greater than 0\n"
            ]
          },
          "metadata": {}
        },
        {
          "output_type": "display_data",
          "data": {
            "text/html": [
              "<dl>\n",
              "\t<dt>$p.value</dt>\n",
              "\t\t<dd>0.0367985390016372</dd>\n",
              "\t<dt>$test.statistic</dt>\n",
              "\t\t<dd>-2.08799219214897</dd>\n",
              "\t<dt>$reject</dt>\n",
              "\t\t<dd>FALSE</dd>\n",
              "</dl>\n"
            ],
            "text/markdown": "$p.value\n:   0.0367985390016372\n$test.statistic\n:   -2.08799219214897\n$reject\n:   FALSE\n\n\n",
            "text/latex": "\\begin{description}\n\\item[\\$p.value] 0.0367985390016372\n\\item[\\$test.statistic] -2.08799219214897\n\\item[\\$reject] FALSE\n\\end{description}\n",
            "text/plain": [
              "$p.value\n",
              "[1] 0.03679854\n",
              "\n",
              "$test.statistic\n",
              "[1] -2.087992\n",
              "\n",
              "$reject\n",
              "[1] FALSE\n"
            ]
          },
          "metadata": {}
        },
        {
          "output_type": "display_data",
          "data": {
            "text/html": [
              "<dl>\n",
              "\t<dt>$Y1</dt>\n",
              "\t\t<dd><dl>\n",
              "\t<dt>$testStatistic</dt>\n",
              "\t\t<dd>2.01329261632373</dd>\n",
              "\t<dt>$criticalValue</dt>\n",
              "\t\t<dd>4.20443525998284</dd>\n",
              "\t<dt>$pvalue_individual</dt>\n",
              "\t\t<dd>0.118907984035099</dd>\n",
              "</dl>\n",
              "</dd>\n",
              "\t<dt>$pvalue</dt>\n",
              "\t\t<dd>0.118907984035099</dd>\n",
              "</dl>\n"
            ],
            "text/markdown": "$Y1\n:   $testStatistic\n:   2.01329261632373\n$criticalValue\n:   4.20443525998284\n$pvalue_individual\n:   0.118907984035099\n\n\n\n$pvalue\n:   0.118907984035099\n\n\n",
            "text/latex": "\\begin{description}\n\\item[\\$Y1] \\begin{description}\n\\item[\\$testStatistic] 2.01329261632373\n\\item[\\$criticalValue] 4.20443525998284\n\\item[\\$pvalue\\_individual] 0.118907984035099\n\\end{description}\n\n\\item[\\$pvalue] 0.118907984035099\n\\end{description}\n",
            "text/plain": [
              "$Y1\n",
              "$Y1$testStatistic\n",
              "[1] 2.013293\n",
              "\n",
              "$Y1$criticalValue\n",
              "[1] 4.204435\n",
              "\n",
              "$Y1$pvalue_individual\n",
              "[1] 0.118908\n",
              "\n",
              "\n",
              "$pvalue\n",
              "[1] 0.118908\n"
            ]
          },
          "metadata": {}
        }
      ]
    },
    {
      "cell_type": "markdown",
      "source": [
        "___\n",
        "## Hypothesis 2"
      ],
      "metadata": {
        "id": "avvBuczKU-2m"
      }
    },
    {
      "cell_type": "code",
      "source": [
        "# load packages\n",
        "library(ipw)\n",
        "library(survey)\n",
        "library(DoubleML)\n",
        "library(mlr3)\n",
        "library(mlr3learners)\n",
        "library(ranger)"
      ],
      "metadata": {
        "id": "eunUO3cETYM5"
      },
      "execution_count": 37,
      "outputs": []
    },
    {
      "cell_type": "code",
      "source": [
        "###################################\n",
        "#### H2: ECE of MAC on fatigue ####\n",
        "###################################\n",
        "\n",
        "## Covariate Adjustment\n",
        "\n",
        "# linear model (M measure: MAIA_38), VAS: A,G\n",
        "m1 <- lm(FSS ~ MAIA_38 + age + gender, data=ase_pbihb_data)\n",
        "s1 <- summary(m1); print(s1)\n",
        "pt(s1$coefficients[2,3], df = m1$df.residual, lower.tail = TRUE) # p-value of one-sided t-test\n",
        "confint(m1)"
      ],
      "metadata": {
        "colab": {
          "base_uri": "https://localhost:8080/",
          "height": 574
        },
        "id": "rqKbiLJmaGfx",
        "outputId": "ae9c710d-8231-4fdb-a10c-64115e91558d"
      },
      "execution_count": 38,
      "outputs": [
        {
          "output_type": "stream",
          "name": "stdout",
          "text": [
            "\n",
            "Call:\n",
            "lm(formula = FSS ~ MAIA_38 + age + gender, data = ase_pbihb_data)\n",
            "\n",
            "Residuals:\n",
            "     Min       1Q   Median       3Q      Max \n",
            "-2.06399 -0.64614 -0.03969  0.37375  2.37695 \n",
            "\n",
            "Coefficients:\n",
            "                        Estimate Std. Error t value Pr(>|t|)    \n",
            "(Intercept)              -0.1093     0.1594  -0.685   0.4959    \n",
            "MAIA_38                  -0.4845     0.1138  -4.259 7.94e-05 ***\n",
            "age                      -0.1945     0.1136  -1.712   0.0925 .  \n",
            "gender0.991631652042901   0.2186     0.2258   0.968   0.3372    \n",
            "---\n",
            "Signif. codes:  0 ‘***’ 0.001 ‘**’ 0.01 ‘*’ 0.05 ‘.’ 0.1 ‘ ’ 1\n",
            "\n",
            "Residual standard error: 0.8722 on 56 degrees of freedom\n",
            "Multiple R-squared:  0.2779,\tAdjusted R-squared:  0.2393 \n",
            "F-statistic: 7.185 on 3 and 56 DF,  p-value: 0.0003648\n",
            "\n"
          ]
        },
        {
          "output_type": "display_data",
          "data": {
            "text/html": [
              "3.96783180188846e-05"
            ],
            "text/markdown": "3.96783180188846e-05",
            "text/latex": "3.96783180188846e-05",
            "text/plain": [
              "[1] 3.967832e-05"
            ]
          },
          "metadata": {}
        },
        {
          "output_type": "display_data",
          "data": {
            "text/html": [
              "<table class=\"dataframe\">\n",
              "<caption>A matrix: 4 × 2 of type dbl</caption>\n",
              "<thead>\n",
              "\t<tr><th></th><th scope=col>2.5 %</th><th scope=col>97.5 %</th></tr>\n",
              "</thead>\n",
              "<tbody>\n",
              "\t<tr><th scope=row>(Intercept)</th><td>-0.4286732</td><td> 0.21012290</td></tr>\n",
              "\t<tr><th scope=row>MAIA_38</th><td>-0.7124306</td><td>-0.25659286</td></tr>\n",
              "\t<tr><th scope=row>age</th><td>-0.4220504</td><td> 0.03314583</td></tr>\n",
              "\t<tr><th scope=row>gender0.991631652042901</th><td>-0.2337102</td><td> 0.67081088</td></tr>\n",
              "</tbody>\n",
              "</table>\n"
            ],
            "text/markdown": "\nA matrix: 4 × 2 of type dbl\n\n| <!--/--> | 2.5 % | 97.5 % |\n|---|---|---|\n| (Intercept) | -0.4286732 |  0.21012290 |\n| MAIA_38 | -0.7124306 | -0.25659286 |\n| age | -0.4220504 |  0.03314583 |\n| gender0.991631652042901 | -0.2337102 |  0.67081088 |\n\n",
            "text/latex": "A matrix: 4 × 2 of type dbl\n\\begin{tabular}{r|ll}\n  & 2.5 \\% & 97.5 \\%\\\\\n\\hline\n\t(Intercept) & -0.4286732 &  0.21012290\\\\\n\tMAIA\\_38 & -0.7124306 & -0.25659286\\\\\n\tage & -0.4220504 &  0.03314583\\\\\n\tgender0.991631652042901 & -0.2337102 &  0.67081088\\\\\n\\end{tabular}\n",
            "text/plain": [
              "                        2.5 %      97.5 %     \n",
              "(Intercept)             -0.4286732  0.21012290\n",
              "MAIA_38                 -0.7124306 -0.25659286\n",
              "age                     -0.4220504  0.03314583\n",
              "gender0.991631652042901 -0.2337102  0.67081088"
            ]
          },
          "metadata": {}
        }
      ]
    },
    {
      "cell_type": "code",
      "source": [
        "# VAS: A,G,S\n",
        "m2 <- lm(FSS ~ MAIA_38 + age + gender + GSES, data=ase_pbihb_data)\n",
        "s2 <- summary(m2); print(s2)\n",
        "pt(s2$coefficients[2,3], df = m2$df.residual, lower.tail = TRUE) # p-value of one-sided t-test\n",
        "confint(m2)"
      ],
      "metadata": {
        "colab": {
          "base_uri": "https://localhost:8080/",
          "height": 623
        },
        "id": "ipfYmNHcaOrk",
        "outputId": "55b062c2-9d96-4817-95d6-c33f760c4798"
      },
      "execution_count": 39,
      "outputs": [
        {
          "output_type": "stream",
          "name": "stdout",
          "text": [
            "\n",
            "Call:\n",
            "lm(formula = FSS ~ MAIA_38 + age + gender + GSES, data = ase_pbihb_data)\n",
            "\n",
            "Residuals:\n",
            "    Min      1Q  Median      3Q     Max \n",
            "-1.5576 -0.4423 -0.2249  0.4797  2.3964 \n",
            "\n",
            "Coefficients:\n",
            "                        Estimate Std. Error t value Pr(>|t|)   \n",
            "(Intercept)              -0.1067     0.1550  -0.688  0.49405   \n",
            "MAIA_38                  -0.3545     0.1273  -2.785  0.00732 **\n",
            "age                      -0.1356     0.1141  -1.189  0.23954   \n",
            "gender0.991631652042901   0.2134     0.2195   0.972  0.33510   \n",
            "GSES                     -0.2690     0.1303  -2.064  0.04371 * \n",
            "---\n",
            "Signif. codes:  0 ‘***’ 0.001 ‘**’ 0.01 ‘*’ 0.05 ‘.’ 0.1 ‘ ’ 1\n",
            "\n",
            "Residual standard error: 0.8479 on 55 degrees of freedom\n",
            "Multiple R-squared:  0.3299,\tAdjusted R-squared:  0.2811 \n",
            "F-statistic: 6.768 on 4 and 55 DF,  p-value: 0.0001669\n",
            "\n"
          ]
        },
        {
          "output_type": "display_data",
          "data": {
            "text/html": [
              "0.00366223230581111"
            ],
            "text/markdown": "0.00366223230581111",
            "text/latex": "0.00366223230581111",
            "text/plain": [
              "[1] 0.003662232"
            ]
          },
          "metadata": {}
        },
        {
          "output_type": "display_data",
          "data": {
            "text/html": [
              "<table class=\"dataframe\">\n",
              "<caption>A matrix: 5 × 2 of type dbl</caption>\n",
              "<thead>\n",
              "\t<tr><th></th><th scope=col>2.5 %</th><th scope=col>97.5 %</th></tr>\n",
              "</thead>\n",
              "<tbody>\n",
              "\t<tr><th scope=row>(Intercept)</th><td>-0.4173304</td><td> 0.20390751</td></tr>\n",
              "\t<tr><th scope=row>MAIA_38</th><td>-0.6095560</td><td>-0.09941659</td></tr>\n",
              "\t<tr><th scope=row>age</th><td>-0.3642073</td><td> 0.09296171</td></tr>\n",
              "\t<tr><th scope=row>gender0.991631652042901</th><td>-0.2264207</td><td> 0.65326642</td></tr>\n",
              "\t<tr><th scope=row>GSES</th><td>-0.5301168</td><td>-0.00785879</td></tr>\n",
              "</tbody>\n",
              "</table>\n"
            ],
            "text/markdown": "\nA matrix: 5 × 2 of type dbl\n\n| <!--/--> | 2.5 % | 97.5 % |\n|---|---|---|\n| (Intercept) | -0.4173304 |  0.20390751 |\n| MAIA_38 | -0.6095560 | -0.09941659 |\n| age | -0.3642073 |  0.09296171 |\n| gender0.991631652042901 | -0.2264207 |  0.65326642 |\n| GSES | -0.5301168 | -0.00785879 |\n\n",
            "text/latex": "A matrix: 5 × 2 of type dbl\n\\begin{tabular}{r|ll}\n  & 2.5 \\% & 97.5 \\%\\\\\n\\hline\n\t(Intercept) & -0.4173304 &  0.20390751\\\\\n\tMAIA\\_38 & -0.6095560 & -0.09941659\\\\\n\tage & -0.3642073 &  0.09296171\\\\\n\tgender0.991631652042901 & -0.2264207 &  0.65326642\\\\\n\tGSES & -0.5301168 & -0.00785879\\\\\n\\end{tabular}\n",
            "text/plain": [
              "                        2.5 %      97.5 %     \n",
              "(Intercept)             -0.4173304  0.20390751\n",
              "MAIA_38                 -0.6095560 -0.09941659\n",
              "age                     -0.3642073  0.09296171\n",
              "gender0.991631652042901 -0.2264207  0.65326642\n",
              "GSES                    -0.5301168 -0.00785879"
            ]
          },
          "metadata": {}
        }
      ]
    },
    {
      "cell_type": "code",
      "source": [
        "#_______________\n",
        "## use propensity score (IPW) for ECE from M to F\n",
        "tmp1 <- ipwpoint(\n",
        "  exposure = MAIA_38,\n",
        "  family = \"gaussian\",\n",
        "  link = \"glm\",\n",
        "  numerator = ~ 1,\n",
        "  denominator = ~ age + gender,\n",
        "  data = ase_pbihb_data\n",
        ")\n",
        "# weights\n",
        "summary(tmp1$ipw.weights)\n",
        "ipwplot(weights = tmp1$ipw.weights, logscale = FALSE,\n",
        "        main = \"Stabilized weights\", xlim = c(0,2))\n",
        "# numerator & denominator models\n",
        "summary(tmp1$num.mod)\n",
        "summary(tmp1$den.mod)\n",
        "# pasting IPW weights to data set\n",
        "ase_pbihb_data$sw <- tmp1$ipw.weights\n",
        "# weighting observations by stabilized weights to adjust for confounding (fit MSM)\n",
        "msm1 <- (svyglm(FSS ~ MAIA_38, design = svydesign(~1, weights = ~sw, data=ase_pbihb_data)))\n",
        "s1_msm <- summary(msm1); print(s1_msm)\n",
        "pt(s1_msm$coefficients[2,3], df = msm1$df.residual, lower.tail = TRUE) # p-value of one-sided t-test\n",
        "confint(msm1)"
      ],
      "metadata": {
        "colab": {
          "base_uri": "https://localhost:8080/",
          "height": 1000
        },
        "id": "X0fgwRR-aKpl",
        "outputId": "84ded066-bc36-47c4-e605-bf43f90b2d86"
      },
      "execution_count": 40,
      "outputs": [
        {
          "output_type": "display_data",
          "data": {
            "text/plain": [
              "   Min. 1st Qu.  Median    Mean 3rd Qu.    Max. \n",
              " 0.8697  0.9524  1.0083  0.9999  1.0493  1.1783 "
            ]
          },
          "metadata": {}
        },
        {
          "output_type": "display_data",
          "data": {
            "text/plain": [
              "\n",
              "Call:\n",
              "glm(formula = MAIA_38 ~ 1, data = ase_pbihb_data, na.action = na.fail)\n",
              "\n",
              "Coefficients:\n",
              "             Estimate Std. Error t value Pr(>|t|)\n",
              "(Intercept) 3.742e-17  1.291e-01       0        1\n",
              "\n",
              "(Dispersion parameter for gaussian family taken to be 1)\n",
              "\n",
              "    Null deviance: 59  on 59  degrees of freedom\n",
              "Residual deviance: 59  on 59  degrees of freedom\n",
              "AIC: 173.26\n",
              "\n",
              "Number of Fisher Scoring iterations: 2\n"
            ]
          },
          "metadata": {}
        },
        {
          "output_type": "display_data",
          "data": {
            "text/plain": [
              "\n",
              "Call:\n",
              "glm(formula = MAIA_38 ~ age + gender, data = ase_pbihb_data, \n",
              "    na.action = na.fail)\n",
              "\n",
              "Coefficients:\n",
              "                         Estimate Std. Error t value Pr(>|t|)\n",
              "(Intercept)             -0.061838   0.185435  -0.333    0.740\n",
              "age                      0.005026   0.132265   0.038    0.970\n",
              "gender0.991631652042901  0.123675   0.262317   0.471    0.639\n",
              "\n",
              "(Dispersion parameter for gaussian family taken to be 1.031015)\n",
              "\n",
              "    Null deviance: 59.000  on 59  degrees of freedom\n",
              "Residual deviance: 58.768  on 57  degrees of freedom\n",
              "AIC: 177.03\n",
              "\n",
              "Number of Fisher Scoring iterations: 2\n"
            ]
          },
          "metadata": {}
        },
        {
          "output_type": "stream",
          "name": "stdout",
          "text": [
            "\n",
            "Call:\n",
            "svyglm(formula = FSS ~ MAIA_38, design = svydesign(~1, weights = ~sw, \n",
            "    data = ase_pbihb_data))\n",
            "\n",
            "Survey design:\n",
            "svydesign(~1, weights = ~sw, data = ase_pbihb_data)\n",
            "\n",
            "Coefficients:\n",
            "             Estimate Std. Error t value Pr(>|t|)    \n",
            "(Intercept) -0.001093   0.112888  -0.010 0.992309    \n",
            "MAIA_38     -0.481621   0.117696  -4.092 0.000134 ***\n",
            "---\n",
            "Signif. codes:  0 ‘***’ 0.001 ‘**’ 0.01 ‘*’ 0.05 ‘.’ 0.1 ‘ ’ 1\n",
            "\n",
            "(Dispersion parameter for gaussian family taken to be 0.7661077)\n",
            "\n",
            "Number of Fisher Scoring iterations: 2\n",
            "\n"
          ]
        },
        {
          "output_type": "display_data",
          "data": {
            "text/html": [
              "6.68939824732219e-05"
            ],
            "text/markdown": "6.68939824732219e-05",
            "text/latex": "6.68939824732219e-05",
            "text/plain": [
              "[1] 6.689398e-05"
            ]
          },
          "metadata": {}
        },
        {
          "output_type": "display_data",
          "data": {
            "text/html": [
              "<table class=\"dataframe\">\n",
              "<caption>A matrix: 2 × 2 of type dbl</caption>\n",
              "<thead>\n",
              "\t<tr><th></th><th scope=col>2.5 %</th><th scope=col>97.5 %</th></tr>\n",
              "</thead>\n",
              "<tbody>\n",
              "\t<tr><th scope=row>(Intercept)</th><td>-0.2270624</td><td> 0.2248766</td></tr>\n",
              "\t<tr><th scope=row>MAIA_38</th><td>-0.7172145</td><td>-0.2460279</td></tr>\n",
              "</tbody>\n",
              "</table>\n"
            ],
            "text/markdown": "\nA matrix: 2 × 2 of type dbl\n\n| <!--/--> | 2.5 % | 97.5 % |\n|---|---|---|\n| (Intercept) | -0.2270624 |  0.2248766 |\n| MAIA_38 | -0.7172145 | -0.2460279 |\n\n",
            "text/latex": "A matrix: 2 × 2 of type dbl\n\\begin{tabular}{r|ll}\n  & 2.5 \\% & 97.5 \\%\\\\\n\\hline\n\t(Intercept) & -0.2270624 &  0.2248766\\\\\n\tMAIA\\_38 & -0.7172145 & -0.2460279\\\\\n\\end{tabular}\n",
            "text/plain": [
              "            2.5 %      97.5 %    \n",
              "(Intercept) -0.2270624  0.2248766\n",
              "MAIA_38     -0.7172145 -0.2460279"
            ]
          },
          "metadata": {}
        },
        {
          "output_type": "display_data",
          "data": {
            "text/plain": [
              "Plot with title “Stabilized weights”"
            ],
            "image/png": "[encoded data removed]"
          },
          "metadata": {
            "image/png": {
              "width": 420,
              "height": 420
            }
          }
        }
      ]
    },
    {
      "cell_type": "code",
      "source": [
        "## use different VAS: A,G,S\n",
        "tmp1a <- ipwpoint(exposure = MAIA_38, family = \"gaussian\", link = \"glm\",\n",
        "  numerator = ~ 1, denominator = ~ age + gender + GSES, data = ase_pbihb_data)\n",
        "ipwplot(weights = tmp1a$ipw.weights, logscale = FALSE, main = \"Stabilized weights\", xlim = c(0,2))\n",
        "ase_pbihb_data$sw1a <- tmp1a$ipw.weights\n",
        "msm1a <- (svyglm(FSS ~ MAIA_38, design = svydesign(~1, weights = ~sw1a, data=ase_pbihb_data)))\n",
        "s1_msm1a <- summary(msm1a); print(s1_msm1a)\n",
        "pt(s1_msm1a$coefficients[2,3], df = msm1a$df.residual, lower.tail = TRUE) # p-value of one-sided t-test\n",
        "s1_msm1a$coefficients[2,4]/2 # p-value for one-sided t-test\n",
        "confint(msm1a)"
      ],
      "metadata": {
        "colab": {
          "base_uri": "https://localhost:8080/",
          "height": 914
        },
        "id": "E8s5XhsSaQ_B",
        "outputId": "0a5cf0d2-d54c-42b7-dbb6-182ebaae4214"
      },
      "execution_count": 41,
      "outputs": [
        {
          "output_type": "stream",
          "name": "stdout",
          "text": [
            "\n",
            "Call:\n",
            "svyglm(formula = FSS ~ MAIA_38, design = svydesign(~1, weights = ~sw1a, \n",
            "    data = ase_pbihb_data))\n",
            "\n",
            "Survey design:\n",
            "svydesign(~1, weights = ~sw1a, data = ase_pbihb_data)\n",
            "\n",
            "Coefficients:\n",
            "            Estimate Std. Error t value Pr(>|t|)  \n",
            "(Intercept)  -0.1578     0.1371  -1.151   0.2545  \n",
            "MAIA_38      -0.3775     0.1573  -2.400   0.0196 *\n",
            "---\n",
            "Signif. codes:  0 ‘***’ 0.001 ‘**’ 0.01 ‘*’ 0.05 ‘.’ 0.1 ‘ ’ 1\n",
            "\n",
            "(Dispersion parameter for gaussian family taken to be 0.8492527)\n",
            "\n",
            "Number of Fisher Scoring iterations: 2\n",
            "\n"
          ]
        },
        {
          "output_type": "display_data",
          "data": {
            "text/html": [
              "0.00980618864496548"
            ],
            "text/markdown": "0.00980618864496548",
            "text/latex": "0.00980618864496548",
            "text/plain": [
              "[1] 0.009806189"
            ]
          },
          "metadata": {}
        },
        {
          "output_type": "display_data",
          "data": {
            "text/html": [
              "0.00980618864496548"
            ],
            "text/markdown": "0.00980618864496548",
            "text/latex": "0.00980618864496548",
            "text/plain": [
              "[1] 0.009806189"
            ]
          },
          "metadata": {}
        },
        {
          "output_type": "display_data",
          "data": {
            "text/html": [
              "<table class=\"dataframe\">\n",
              "<caption>A matrix: 2 × 2 of type dbl</caption>\n",
              "<thead>\n",
              "\t<tr><th></th><th scope=col>2.5 %</th><th scope=col>97.5 %</th></tr>\n",
              "</thead>\n",
              "<tbody>\n",
              "\t<tr><th scope=row>(Intercept)</th><td>-0.4322405</td><td> 0.11663463</td></tr>\n",
              "\t<tr><th scope=row>MAIA_38</th><td>-0.6924031</td><td>-0.06269128</td></tr>\n",
              "</tbody>\n",
              "</table>\n"
            ],
            "text/markdown": "\nA matrix: 2 × 2 of type dbl\n\n| <!--/--> | 2.5 % | 97.5 % |\n|---|---|---|\n| (Intercept) | -0.4322405 |  0.11663463 |\n| MAIA_38 | -0.6924031 | -0.06269128 |\n\n",
            "text/latex": "A matrix: 2 × 2 of type dbl\n\\begin{tabular}{r|ll}\n  & 2.5 \\% & 97.5 \\%\\\\\n\\hline\n\t(Intercept) & -0.4322405 &  0.11663463\\\\\n\tMAIA\\_38 & -0.6924031 & -0.06269128\\\\\n\\end{tabular}\n",
            "text/plain": [
              "            2.5 %      97.5 %     \n",
              "(Intercept) -0.4322405  0.11663463\n",
              "MAIA_38     -0.6924031 -0.06269128"
            ]
          },
          "metadata": {}
        },
        {
          "output_type": "display_data",
          "data": {
            "text/plain": [
              "Plot with title “Stabilized weights”"
            ],
            "image/png": "[encoded data removed]"
          },
          "metadata": {
            "image/png": {
              "width": 420,
              "height": 420
            }
          }
        }
      ]
    },
    {
      "cell_type": "code",
      "source": [
        "# _______________________________________\n",
        "## use doubleML for ECE\n",
        "set.seed(1234)\n",
        "\n",
        "# implement causal model (inference on effect of variable d on y, confounds x)\n",
        "obj_dml_data <- double_ml_data_from_data_frame(df = ase_pbihb_data,\n",
        "                               x_cols = c(\"age\",\"gender\"),\n",
        "                               y_col = \"FSS\",\n",
        "                               d_col = \"MAIA_38\")\n",
        "\n",
        "# chose machine learning method\n",
        "n_vars = 2 #number of covariates x\n",
        "# init random forests learner with specified params\n",
        "ml_l = lrn(\"regr.ranger\", num.trees = 100, mtry = n_vars, min.node.size = 2, max.depth = 5)\n",
        "ml_m = lrn(\"regr.ranger\", num.trees = 100, mtry = n_vars, min.node.size = 2, max.depth = 5)\n",
        "ml_g = lrn(\"regr.ranger\", num.trees = 100, mtry = n_vars, min.node.size = 2, max.depth = 5)\n",
        "\n",
        "doubleml_plr = DoubleMLPLR$new(obj_dml_data, ml_l, ml_m, ml_g, n_folds = 2, score = \"IV-type\")\n",
        "doubleml_plr\n",
        "\n",
        "# est causal effect of d on y\n",
        "set.seed(123)\n",
        "doubleml_plr$fit()\n",
        "doubleml_plr$summary()\n",
        "doubleml_plr$t_stat\n",
        "doubleml_plr$pval/2 # p-value for one-sided t-test\n",
        "doubleml_plr$confint()"
      ],
      "metadata": {
        "colab": {
          "base_uri": "https://localhost:8080/",
          "height": 845
        },
        "id": "No3UTbpjaS0T",
        "outputId": "8a45cdf5-c8d9-4053-9e2f-b4543fbf85a3"
      },
      "execution_count": 42,
      "outputs": [
        {
          "output_type": "stream",
          "name": "stderr",
          "text": [
            "fit() not yet called.\n",
            "\n"
          ]
        },
        {
          "output_type": "display_data",
          "data": {
            "text/plain": [
              "================= DoubleMLPLR Object ==================\n",
              "\n",
              "\n",
              "------------------ Data summary      ------------------\n",
              "Outcome variable: FSS\n",
              "Treatment variable(s): MAIA_38\n",
              "Covariates: age, gender\n",
              "Instrument(s): \n",
              "No. Observations: 60\n",
              "\n",
              "------------------ Score & algorithm ------------------\n",
              "Score function: IV-type\n",
              "DML algorithm: dml2\n",
              "\n",
              "------------------ Machine learner   ------------------\n",
              "ml_l: regr.ranger\n",
              "ml_m: regr.ranger\n",
              "ml_g: regr.ranger\n",
              "\n",
              "------------------ Resampling        ------------------\n",
              "No. folds: 2\n",
              "No. repeated sample splits: 1\n",
              "Apply cross-fitting: TRUE\n",
              "\n",
              "------------------ Fit summary       ------------------\n",
              " "
            ]
          },
          "metadata": {}
        },
        {
          "output_type": "stream",
          "name": "stdout",
          "text": [
            "INFO  [14:16:57.483] [mlr3] Applying learner 'regr.ranger' on task 'nuis_l' (iter 1/2)\n",
            "INFO  [14:16:57.517] [mlr3] Applying learner 'regr.ranger' on task 'nuis_l' (iter 2/2)\n",
            "INFO  [14:16:57.679] [mlr3] Applying learner 'regr.ranger' on task 'nuis_m' (iter 1/2)\n",
            "INFO  [14:16:57.708] [mlr3] Applying learner 'regr.ranger' on task 'nuis_m' (iter 2/2)\n",
            "INFO  [14:16:57.872] [mlr3] Applying learner 'regr.ranger' on task 'nuis_g' (iter 1/2)\n",
            "INFO  [14:16:57.905] [mlr3] Applying learner 'regr.ranger' on task 'nuis_g' (iter 2/2)\n",
            "Estimates and significance testing of the effect of target variables\n",
            "        Estimate. Std. Error t value Pr(>|t|)   \n",
            "MAIA_38   -0.3872     0.1331  -2.908  0.00363 **\n",
            "---\n",
            "Signif. codes:  0 ‘***’ 0.001 ‘**’ 0.01 ‘*’ 0.05 ‘.’ 0.1 ‘ ’ 1\n",
            "\n",
            "\n"
          ]
        },
        {
          "output_type": "display_data",
          "data": {
            "text/html": [
              "<strong>MAIA_38:</strong> -2.90821404425644"
            ],
            "text/markdown": "**MAIA_38:** -2.90821404425644",
            "text/latex": "\\textbf{MAIA\\textbackslash{}\\_38:} -2.90821404425644",
            "text/plain": [
              "  MAIA_38 \n",
              "-2.908214 "
            ]
          },
          "metadata": {}
        },
        {
          "output_type": "display_data",
          "data": {
            "text/html": [
              "<strong>MAIA_38:</strong> 0.00181749722883424"
            ],
            "text/markdown": "**MAIA_38:** 0.00181749722883424",
            "text/latex": "\\textbf{MAIA\\textbackslash{}\\_38:} 0.00181749722883424",
            "text/plain": [
              "    MAIA_38 \n",
              "0.001817497 "
            ]
          },
          "metadata": {}
        },
        {
          "output_type": "display_data",
          "data": {
            "text/html": [
              "<table class=\"dataframe\">\n",
              "<caption>A matrix: 1 × 2 of type dbl</caption>\n",
              "<thead>\n",
              "\t<tr><th></th><th scope=col>2.5 %</th><th scope=col>97.5 %</th></tr>\n",
              "</thead>\n",
              "<tbody>\n",
              "\t<tr><th scope=row>MAIA_38</th><td>-0.6480817</td><td>-0.1262369</td></tr>\n",
              "</tbody>\n",
              "</table>\n"
            ],
            "text/markdown": "\nA matrix: 1 × 2 of type dbl\n\n| <!--/--> | 2.5 % | 97.5 % |\n|---|---|---|\n| MAIA_38 | -0.6480817 | -0.1262369 |\n\n",
            "text/latex": "A matrix: 1 × 2 of type dbl\n\\begin{tabular}{r|ll}\n  & 2.5 \\% & 97.5 \\%\\\\\n\\hline\n\tMAIA\\_38 & -0.6480817 & -0.1262369\\\\\n\\end{tabular}\n",
            "text/plain": [
              "        2.5 %      97.5 %    \n",
              "MAIA_38 -0.6480817 -0.1262369"
            ]
          },
          "metadata": {}
        }
      ]
    },
    {
      "cell_type": "code",
      "source": [
        "## different VAS: A,G,S\n",
        "# implement causal model (inference on effect of variable d on y, confounds x)\n",
        "obj_dml_data1b <- double_ml_data_from_data_frame(df = ase_pbihb_data,\n",
        "                                               x_cols = c(\"age\",\"gender\",\"GSES\"),\n",
        "                                               y_col = \"FSS\",\n",
        "                                               d_col = \"MAIA_38\")\n",
        "# chose machine learning method\n",
        "n_vars = 3 #number of covariates x\n",
        "# init random forests learner with specified params\n",
        "ml_l1b = lrn(\"regr.ranger\", num.trees = 100, mtry = n_vars, min.node.size = 2, max.depth = 5)\n",
        "ml_m1b = lrn(\"regr.ranger\", num.trees = 100, mtry = n_vars, min.node.size = 2, max.depth = 5)\n",
        "ml_g1b = lrn(\"regr.ranger\", num.trees = 100, mtry = n_vars, min.node.size = 2, max.depth = 5)\n",
        "doubleml_plr1b = DoubleMLPLR$new(obj_dml_data1b, ml_l1b, ml_m1b, ml_g1b, n_folds = 2, score = \"IV-type\")\n",
        "doubleml_plr1b\n",
        "# est causal effect of d on y\n",
        "set.seed(123)\n",
        "doubleml_plr1b$fit()\n",
        "doubleml_plr1b$summary()\n",
        "doubleml_plr1b$t_stat\n",
        "doubleml_plr1b$pval/2 # p-value for one-sided t-test\n",
        "doubleml_plr1b$confint()"
      ],
      "metadata": {
        "colab": {
          "base_uri": "https://localhost:8080/",
          "height": 810
        },
        "id": "54nk2s1OaU3V",
        "outputId": "2f9b8931-17c1-4701-a975-724362301009"
      },
      "execution_count": 43,
      "outputs": [
        {
          "output_type": "stream",
          "name": "stderr",
          "text": [
            "fit() not yet called.\n",
            "\n"
          ]
        },
        {
          "output_type": "display_data",
          "data": {
            "text/plain": [
              "================= DoubleMLPLR Object ==================\n",
              "\n",
              "\n",
              "------------------ Data summary      ------------------\n",
              "Outcome variable: FSS\n",
              "Treatment variable(s): MAIA_38\n",
              "Covariates: age, gender, GSES\n",
              "Instrument(s): \n",
              "No. Observations: 60\n",
              "\n",
              "------------------ Score & algorithm ------------------\n",
              "Score function: IV-type\n",
              "DML algorithm: dml2\n",
              "\n",
              "------------------ Machine learner   ------------------\n",
              "ml_l: regr.ranger\n",
              "ml_m: regr.ranger\n",
              "ml_g: regr.ranger\n",
              "\n",
              "------------------ Resampling        ------------------\n",
              "No. folds: 2\n",
              "No. repeated sample splits: 1\n",
              "Apply cross-fitting: TRUE\n",
              "\n",
              "------------------ Fit summary       ------------------\n",
              " "
            ]
          },
          "metadata": {}
        },
        {
          "output_type": "stream",
          "name": "stdout",
          "text": [
            "INFO  [14:16:58.449] [mlr3] Applying learner 'regr.ranger' on task 'nuis_l' (iter 1/2)\n",
            "INFO  [14:16:58.482] [mlr3] Applying learner 'regr.ranger' on task 'nuis_l' (iter 2/2)\n",
            "INFO  [14:16:58.671] [mlr3] Applying learner 'regr.ranger' on task 'nuis_m' (iter 1/2)\n",
            "INFO  [14:16:58.701] [mlr3] Applying learner 'regr.ranger' on task 'nuis_m' (iter 2/2)\n",
            "INFO  [14:16:58.864] [mlr3] Applying learner 'regr.ranger' on task 'nuis_g' (iter 1/2)\n",
            "INFO  [14:16:58.895] [mlr3] Applying learner 'regr.ranger' on task 'nuis_g' (iter 2/2)\n",
            "Estimates and significance testing of the effect of target variables\n",
            "        Estimate. Std. Error t value Pr(>|t|)\n",
            "MAIA_38   -0.2049     0.1826  -1.122    0.262\n",
            "\n",
            "\n"
          ]
        },
        {
          "output_type": "display_data",
          "data": {
            "text/html": [
              "<strong>MAIA_38:</strong> -1.12224760519345"
            ],
            "text/markdown": "**MAIA_38:** -1.12224760519345",
            "text/latex": "\\textbf{MAIA\\textbackslash{}\\_38:} -1.12224760519345",
            "text/plain": [
              "  MAIA_38 \n",
              "-1.122248 "
            ]
          },
          "metadata": {}
        },
        {
          "output_type": "display_data",
          "data": {
            "text/html": [
              "<strong>MAIA_38:</strong> 0.130878588384717"
            ],
            "text/markdown": "**MAIA_38:** 0.130878588384717",
            "text/latex": "\\textbf{MAIA\\textbackslash{}\\_38:} 0.130878588384717",
            "text/plain": [
              "  MAIA_38 \n",
              "0.1308786 "
            ]
          },
          "metadata": {}
        },
        {
          "output_type": "display_data",
          "data": {
            "text/html": [
              "<table class=\"dataframe\">\n",
              "<caption>A matrix: 1 × 2 of type dbl</caption>\n",
              "<thead>\n",
              "\t<tr><th></th><th scope=col>2.5 %</th><th scope=col>97.5 %</th></tr>\n",
              "</thead>\n",
              "<tbody>\n",
              "\t<tr><th scope=row>MAIA_38</th><td>-0.5627463</td><td>0.1529492</td></tr>\n",
              "</tbody>\n",
              "</table>\n"
            ],
            "text/markdown": "\nA matrix: 1 × 2 of type dbl\n\n| <!--/--> | 2.5 % | 97.5 % |\n|---|---|---|\n| MAIA_38 | -0.5627463 | 0.1529492 |\n\n",
            "text/latex": "A matrix: 1 × 2 of type dbl\n\\begin{tabular}{r|ll}\n  & 2.5 \\% & 97.5 \\%\\\\\n\\hline\n\tMAIA\\_38 & -0.5627463 & 0.1529492\\\\\n\\end{tabular}\n",
            "text/plain": [
              "        2.5 %      97.5 %   \n",
              "MAIA_38 -0.5627463 0.1529492"
            ]
          },
          "metadata": {}
        }
      ]
    },
    {
      "cell_type": "markdown",
      "source": [
        "___\n",
        "## Hypothesis 3"
      ],
      "metadata": {
        "id": "G5jqmIQVVHgB"
      }
    },
    {
      "cell_type": "code",
      "source": [
        "################################################################################\n",
        "#### H3: ECE of fatigue*self-efficacy on depression ############################\n",
        "################################################################################\n",
        "\n",
        "## linear models\n",
        "# VAS: A,G\n",
        "m11 <- lm(CESD ~ FSS + GSES + FSS*GSES + age + gender, data=ase_pbihb_data)\n",
        "s11 <- summary(m11); print(s11)\n",
        "pt(s11$coefficients[6,3], df = m11$df.residual, lower.tail = TRUE) # p-value of one-sided t-test\n",
        "confint(m11)"
      ],
      "metadata": {
        "colab": {
          "base_uri": "https://localhost:8080/",
          "height": 672
        },
        "id": "CrUfzoTEahZ0",
        "outputId": "67d502d4-b1f6-426f-8dbb-6afe45fadf64"
      },
      "execution_count": 44,
      "outputs": [
        {
          "output_type": "stream",
          "name": "stdout",
          "text": [
            "\n",
            "Call:\n",
            "lm(formula = CESD ~ FSS + GSES + FSS * GSES + age + gender, data = ase_pbihb_data)\n",
            "\n",
            "Residuals:\n",
            "    Min      1Q  Median      3Q     Max \n",
            "-1.0893 -0.5717 -0.1105  0.3807  3.3696 \n",
            "\n",
            "Coefficients:\n",
            "                         Estimate Std. Error t value Pr(>|t|)   \n",
            "(Intercept)              0.003542   0.163637   0.022  0.98281   \n",
            "FSS                      0.330385   0.126557   2.611  0.01168 * \n",
            "GSES                    -0.359913   0.128082  -2.810  0.00689 **\n",
            "age                      0.031576   0.114165   0.277  0.78316   \n",
            "gender0.991631652042901  0.018797   0.220671   0.085  0.93243   \n",
            "FSS:GSES                 0.028134   0.109426   0.257  0.79807   \n",
            "---\n",
            "Signif. codes:  0 ‘***’ 0.001 ‘**’ 0.01 ‘*’ 0.05 ‘.’ 0.1 ‘ ’ 1\n",
            "\n",
            "Residual standard error: 0.8496 on 54 degrees of freedom\n",
            "Multiple R-squared:  0.3394,\tAdjusted R-squared:  0.2782 \n",
            "F-statistic: 5.548 on 5 and 54 DF,  p-value: 0.0003405\n",
            "\n"
          ]
        },
        {
          "output_type": "display_data",
          "data": {
            "text/html": [
              "0.600963435780739"
            ],
            "text/markdown": "0.600963435780739",
            "text/latex": "0.600963435780739",
            "text/plain": [
              "[1] 0.6009634"
            ]
          },
          "metadata": {}
        },
        {
          "output_type": "display_data",
          "data": {
            "text/html": [
              "<table class=\"dataframe\">\n",
              "<caption>A matrix: 6 × 2 of type dbl</caption>\n",
              "<thead>\n",
              "\t<tr><th></th><th scope=col>2.5 %</th><th scope=col>97.5 %</th></tr>\n",
              "</thead>\n",
              "<tbody>\n",
              "\t<tr><th scope=row>(Intercept)</th><td>-0.3245305</td><td> 0.3316150</td></tr>\n",
              "\t<tr><th scope=row>FSS</th><td> 0.0766536</td><td> 0.5841155</td></tr>\n",
              "\t<tr><th scope=row>GSES</th><td>-0.6167023</td><td>-0.1031232</td></tr>\n",
              "\t<tr><th scope=row>age</th><td>-0.1973112</td><td> 0.2604632</td></tr>\n",
              "\t<tr><th scope=row>gender0.991631652042901</th><td>-0.4236217</td><td> 0.4612158</td></tr>\n",
              "\t<tr><th scope=row>FSS:GSES</th><td>-0.1912512</td><td> 0.2475195</td></tr>\n",
              "</tbody>\n",
              "</table>\n"
            ],
            "text/markdown": "\nA matrix: 6 × 2 of type dbl\n\n| <!--/--> | 2.5 % | 97.5 % |\n|---|---|---|\n| (Intercept) | -0.3245305 |  0.3316150 |\n| FSS |  0.0766536 |  0.5841155 |\n| GSES | -0.6167023 | -0.1031232 |\n| age | -0.1973112 |  0.2604632 |\n| gender0.991631652042901 | -0.4236217 |  0.4612158 |\n| FSS:GSES | -0.1912512 |  0.2475195 |\n\n",
            "text/latex": "A matrix: 6 × 2 of type dbl\n\\begin{tabular}{r|ll}\n  & 2.5 \\% & 97.5 \\%\\\\\n\\hline\n\t(Intercept) & -0.3245305 &  0.3316150\\\\\n\tFSS &  0.0766536 &  0.5841155\\\\\n\tGSES & -0.6167023 & -0.1031232\\\\\n\tage & -0.1973112 &  0.2604632\\\\\n\tgender0.991631652042901 & -0.4236217 &  0.4612158\\\\\n\tFSS:GSES & -0.1912512 &  0.2475195\\\\\n\\end{tabular}\n",
            "text/plain": [
              "                        2.5 %      97.5 %    \n",
              "(Intercept)             -0.3245305  0.3316150\n",
              "FSS                      0.0766536  0.5841155\n",
              "GSES                    -0.6167023 -0.1031232\n",
              "age                     -0.1973112  0.2604632\n",
              "gender0.991631652042901 -0.4236217  0.4612158\n",
              "FSS:GSES                -0.1912512  0.2475195"
            ]
          },
          "metadata": {}
        }
      ]
    },
    {
      "cell_type": "code",
      "source": [
        "# VAS: A,G,M\n",
        "m12 <- lm(CESD ~ FSS + GSES + FSS*GSES + age + gender + MAIA_38, data=ase_pbihb_data)\n",
        "s12 <- summary(m12); print(s12)\n",
        "pt(s12$coefficients[7,3], df = m12$df.residual, lower.tail = TRUE) # p-value of one-sided t-test\n",
        "confint(m12)"
      ],
      "metadata": {
        "colab": {
          "base_uri": "https://localhost:8080/",
          "height": 738
        },
        "id": "1efcahjJakrm",
        "outputId": "54f3d87c-7239-4a1e-8930-46afeb3e498e"
      },
      "execution_count": 45,
      "outputs": [
        {
          "output_type": "stream",
          "name": "stdout",
          "text": [
            "\n",
            "Call:\n",
            "lm(formula = CESD ~ FSS + GSES + FSS * GSES + age + gender + \n",
            "    MAIA_38, data = ase_pbihb_data)\n",
            "\n",
            "Residuals:\n",
            "     Min       1Q   Median       3Q      Max \n",
            "-1.30480 -0.35274  0.00234  0.30175  2.53833 \n",
            "\n",
            "Coefficients:\n",
            "                        Estimate Std. Error t value Pr(>|t|)    \n",
            "(Intercept)             -0.02181    0.14074  -0.155    0.877    \n",
            "FSS                      0.14501    0.11634   1.246    0.218    \n",
            "GSES                    -0.18151    0.11703  -1.551    0.127    \n",
            "age                     -0.04355    0.09953  -0.438    0.664    \n",
            "gender0.991631652042901  0.10539    0.19062   0.553    0.583    \n",
            "MAIA_38                 -0.52740    0.11757  -4.486 3.94e-05 ***\n",
            "FSS:GSES                 0.06714    0.09444   0.711    0.480    \n",
            "---\n",
            "Signif. codes:  0 ‘***’ 0.001 ‘**’ 0.01 ‘*’ 0.05 ‘.’ 0.1 ‘ ’ 1\n",
            "\n",
            "Residual standard error: 0.7301 on 53 degrees of freedom\n",
            "Multiple R-squared:  0.5212,\tAdjusted R-squared:  0.467 \n",
            "F-statistic: 9.614 on 6 and 53 DF,  p-value: 3.811e-07\n",
            "\n"
          ]
        },
        {
          "output_type": "display_data",
          "data": {
            "text/html": [
              "0.759889202177171"
            ],
            "text/markdown": "0.759889202177171",
            "text/latex": "0.759889202177171",
            "text/plain": [
              "[1] 0.7598892"
            ]
          },
          "metadata": {}
        },
        {
          "output_type": "display_data",
          "data": {
            "text/html": [
              "<table class=\"dataframe\">\n",
              "<caption>A matrix: 7 × 2 of type dbl</caption>\n",
              "<thead>\n",
              "\t<tr><th></th><th scope=col>2.5 %</th><th scope=col>97.5 %</th></tr>\n",
              "</thead>\n",
              "<tbody>\n",
              "\t<tr><th scope=row>(Intercept)</th><td>-0.30409380</td><td> 0.26046816</td></tr>\n",
              "\t<tr><th scope=row>FSS</th><td>-0.08834383</td><td> 0.37836849</td></tr>\n",
              "\t<tr><th scope=row>GSES</th><td>-0.41625283</td><td> 0.05322343</td></tr>\n",
              "\t<tr><th scope=row>age</th><td>-0.24317335</td><td> 0.15608060</td></tr>\n",
              "\t<tr><th scope=row>gender0.991631652042901</th><td>-0.27693379</td><td> 0.48771688</td></tr>\n",
              "\t<tr><th scope=row>MAIA_38</th><td>-0.76322442</td><td>-0.29158090</td></tr>\n",
              "\t<tr><th scope=row>FSS:GSES</th><td>-0.12227482</td><td> 0.25655793</td></tr>\n",
              "</tbody>\n",
              "</table>\n"
            ],
            "text/markdown": "\nA matrix: 7 × 2 of type dbl\n\n| <!--/--> | 2.5 % | 97.5 % |\n|---|---|---|\n| (Intercept) | -0.30409380 |  0.26046816 |\n| FSS | -0.08834383 |  0.37836849 |\n| GSES | -0.41625283 |  0.05322343 |\n| age | -0.24317335 |  0.15608060 |\n| gender0.991631652042901 | -0.27693379 |  0.48771688 |\n| MAIA_38 | -0.76322442 | -0.29158090 |\n| FSS:GSES | -0.12227482 |  0.25655793 |\n\n",
            "text/latex": "A matrix: 7 × 2 of type dbl\n\\begin{tabular}{r|ll}\n  & 2.5 \\% & 97.5 \\%\\\\\n\\hline\n\t(Intercept) & -0.30409380 &  0.26046816\\\\\n\tFSS & -0.08834383 &  0.37836849\\\\\n\tGSES & -0.41625283 &  0.05322343\\\\\n\tage & -0.24317335 &  0.15608060\\\\\n\tgender0.991631652042901 & -0.27693379 &  0.48771688\\\\\n\tMAIA\\_38 & -0.76322442 & -0.29158090\\\\\n\tFSS:GSES & -0.12227482 &  0.25655793\\\\\n\\end{tabular}\n",
            "text/plain": [
              "                        2.5 %       97.5 %     \n",
              "(Intercept)             -0.30409380  0.26046816\n",
              "FSS                     -0.08834383  0.37836849\n",
              "GSES                    -0.41625283  0.05322343\n",
              "age                     -0.24317335  0.15608060\n",
              "gender0.991631652042901 -0.27693379  0.48771688\n",
              "MAIA_38                 -0.76322442 -0.29158090\n",
              "FSS:GSES                -0.12227482  0.25655793"
            ]
          },
          "metadata": {}
        }
      ]
    },
    {
      "cell_type": "code",
      "source": [
        "#______\n",
        "## use propensity score (IPW) for ECE from F*S to D\n",
        "ase_pbihb_data$f_s_int <- ase_pbihb_data$FSS*ase_pbihb_data$GSES\n",
        "\n",
        "# VAS: A,G\n",
        "tmp2 <- ipwpoint(\n",
        "  exposure = f_s_int,\n",
        "  family = \"gaussian\",\n",
        "  link = \"glm\",\n",
        "  numerator = ~ 1,\n",
        "  denominator = ~ age + gender, #VAS: A,G\n",
        "  data = ase_pbihb_data\n",
        ")\n",
        "# weights\n",
        "summary(tmp2$ipw.weights)\n",
        "ipwplot(weights = tmp2$ipw.weights, logscale = FALSE,\n",
        "        main = \"Stabilized weights\", xlim = c(0,3))\n",
        "# numerator & denominator models\n",
        "summary(tmp2$num.mod)\n",
        "summary(tmp2$den.mod)\n",
        "# pasting IPW weights to data set\n",
        "ase_pbihb_data$sw2 <- tmp2$ipw.weights\n",
        "# weighting observations by stabilized weights to adjust for confounding (fit MSM)\n",
        "msm2 <- (svyglm(CESD ~ FSS + GSES + FSS*GSES + age + gender,\n",
        "                design = svydesign(~1, weights = ~sw2, data=ase_pbihb_data)))\n",
        "s_msm2 <- summary(msm2); print(s_msm2)\n",
        "pt(s_msm2$coefficients[6,3], df = msm2$df.residual, lower.tail = TRUE) # p-value of one-sided t-test\n",
        "confint(msm2)"
      ],
      "metadata": {
        "colab": {
          "base_uri": "https://localhost:8080/",
          "height": 1000
        },
        "id": "ly0dyu96am1-",
        "outputId": "3c74f2d1-6f41-4506-a12d-1f209b6f4ea7"
      },
      "execution_count": 46,
      "outputs": [
        {
          "output_type": "display_data",
          "data": {
            "text/plain": [
              "   Min. 1st Qu.  Median    Mean 3rd Qu.    Max. \n",
              " 0.7170  0.9917  0.9995  1.0004  1.0165  1.2052 "
            ]
          },
          "metadata": {}
        },
        {
          "output_type": "display_data",
          "data": {
            "text/plain": [
              "\n",
              "Call:\n",
              "glm(formula = f_s_int ~ 1, data = ase_pbihb_data, na.action = na.fail)\n",
              "\n",
              "Coefficients:\n",
              "            Estimate Std. Error t value Pr(>|t|)    \n",
              "(Intercept)   -0.460      0.132  -3.485 0.000934 ***\n",
              "---\n",
              "Signif. codes:  0 ‘***’ 0.001 ‘**’ 0.01 ‘*’ 0.05 ‘.’ 0.1 ‘ ’ 1\n",
              "\n",
              "(Dispersion parameter for gaussian family taken to be 1.045018)\n",
              "\n",
              "    Null deviance: 61.656  on 59  degrees of freedom\n",
              "Residual deviance: 61.656  on 59  degrees of freedom\n",
              "AIC: 175.91\n",
              "\n",
              "Number of Fisher Scoring iterations: 2\n"
            ]
          },
          "metadata": {}
        },
        {
          "output_type": "display_data",
          "data": {
            "text/plain": [
              "\n",
              "Call:\n",
              "glm(formula = f_s_int ~ age + gender, data = ase_pbihb_data, \n",
              "    na.action = na.fail)\n",
              "\n",
              "Coefficients:\n",
              "                        Estimate Std. Error t value Pr(>|t|)  \n",
              "(Intercept)             -0.46987    0.18973  -2.477   0.0163 *\n",
              "age                      0.04680    0.13533   0.346   0.7308  \n",
              "gender0.991631652042901  0.01981    0.26839   0.074   0.9414  \n",
              "---\n",
              "Signif. codes:  0 ‘***’ 0.001 ‘**’ 0.01 ‘*’ 0.05 ‘.’ 0.1 ‘ ’ 1\n",
              "\n",
              "(Dispersion parameter for gaussian family taken to be 1.079283)\n",
              "\n",
              "    Null deviance: 61.656  on 59  degrees of freedom\n",
              "Residual deviance: 61.519  on 57  degrees of freedom\n",
              "AIC: 179.77\n",
              "\n",
              "Number of Fisher Scoring iterations: 2\n"
            ]
          },
          "metadata": {}
        },
        {
          "output_type": "stream",
          "name": "stdout",
          "text": [
            "\n",
            "Call:\n",
            "svyglm(formula = CESD ~ FSS + GSES + FSS * GSES + age + gender, \n",
            "    design = svydesign(~1, weights = ~sw2, data = ase_pbihb_data))\n",
            "\n",
            "Survey design:\n",
            "svydesign(~1, weights = ~sw2, data = ase_pbihb_data)\n",
            "\n",
            "Coefficients:\n",
            "                         Estimate Std. Error t value Pr(>|t|)    \n",
            "(Intercept)              0.001008   0.166572   0.006 0.995192    \n",
            "FSS                      0.332104   0.123009   2.700 0.009244 ** \n",
            "GSES                    -0.366126   0.101044  -3.623 0.000643 ***\n",
            "age                      0.032673   0.099567   0.328 0.744069    \n",
            "gender0.991631652042901  0.018320   0.216867   0.084 0.932991    \n",
            "FSS:GSES                 0.014211   0.082568   0.172 0.863990    \n",
            "---\n",
            "Signif. codes:  0 ‘***’ 0.001 ‘**’ 0.01 ‘*’ 0.05 ‘.’ 0.1 ‘ ’ 1\n",
            "\n",
            "(Dispersion parameter for gaussian family taken to be 0.6603259)\n",
            "\n",
            "Number of Fisher Scoring iterations: 2\n",
            "\n"
          ]
        },
        {
          "output_type": "display_data",
          "data": {
            "text/html": [
              "0.568005235944086"
            ],
            "text/markdown": "0.568005235944086",
            "text/latex": "0.568005235944086",
            "text/plain": [
              "[1] 0.5680052"
            ]
          },
          "metadata": {}
        },
        {
          "output_type": "display_data",
          "data": {
            "text/html": [
              "<table class=\"dataframe\">\n",
              "<caption>A matrix: 6 × 2 of type dbl</caption>\n",
              "<thead>\n",
              "\t<tr><th></th><th scope=col>2.5 %</th><th scope=col>97.5 %</th></tr>\n",
              "</thead>\n",
              "<tbody>\n",
              "\t<tr><th scope=row>(Intercept)</th><td>-0.33294847</td><td> 0.3349653</td></tr>\n",
              "\t<tr><th scope=row>FSS</th><td> 0.08548575</td><td> 0.5787228</td></tr>\n",
              "\t<tr><th scope=row>GSES</th><td>-0.56870705</td><td>-0.1635449</td></tr>\n",
              "\t<tr><th scope=row>age</th><td>-0.16694703</td><td> 0.2322922</td></tr>\n",
              "\t<tr><th scope=row>gender0.991631652042901</th><td>-0.41647195</td><td> 0.4531117</td></tr>\n",
              "\t<tr><th scope=row>FSS:GSES</th><td>-0.15132823</td><td> 0.1797509</td></tr>\n",
              "</tbody>\n",
              "</table>\n"
            ],
            "text/markdown": "\nA matrix: 6 × 2 of type dbl\n\n| <!--/--> | 2.5 % | 97.5 % |\n|---|---|---|\n| (Intercept) | -0.33294847 |  0.3349653 |\n| FSS |  0.08548575 |  0.5787228 |\n| GSES | -0.56870705 | -0.1635449 |\n| age | -0.16694703 |  0.2322922 |\n| gender0.991631652042901 | -0.41647195 |  0.4531117 |\n| FSS:GSES | -0.15132823 |  0.1797509 |\n\n",
            "text/latex": "A matrix: 6 × 2 of type dbl\n\\begin{tabular}{r|ll}\n  & 2.5 \\% & 97.5 \\%\\\\\n\\hline\n\t(Intercept) & -0.33294847 &  0.3349653\\\\\n\tFSS &  0.08548575 &  0.5787228\\\\\n\tGSES & -0.56870705 & -0.1635449\\\\\n\tage & -0.16694703 &  0.2322922\\\\\n\tgender0.991631652042901 & -0.41647195 &  0.4531117\\\\\n\tFSS:GSES & -0.15132823 &  0.1797509\\\\\n\\end{tabular}\n",
            "text/plain": [
              "                        2.5 %       97.5 %    \n",
              "(Intercept)             -0.33294847  0.3349653\n",
              "FSS                      0.08548575  0.5787228\n",
              "GSES                    -0.56870705 -0.1635449\n",
              "age                     -0.16694703  0.2322922\n",
              "gender0.991631652042901 -0.41647195  0.4531117\n",
              "FSS:GSES                -0.15132823  0.1797509"
            ]
          },
          "metadata": {}
        },
        {
          "output_type": "display_data",
          "data": {
            "text/plain": [
              "Plot with title “Stabilized weights”"
            ],
            "image/png": "[encoded data removed]"
          },
          "metadata": {
            "image/png": {
              "width": 420,
              "height": 420
            }
          }
        }
      ]
    },
    {
      "cell_type": "code",
      "source": [
        "## VAS: A,G,M\n",
        "tmp2b <- ipwpoint(exposure = f_s_int, family = \"gaussian\", link = \"glm\", numerator = ~ 1,\n",
        "  denominator = ~ age + gender + MAIA_38, data = ase_pbihb_data)\n",
        "ase_pbihb_data$sw2b <- tmp2b$ipw.weights\n",
        "msm2b <- (svyglm(CESD ~ FSS + GSES + FSS*GSES + age + gender + MAIA_38,\n",
        "                design = svydesign(~1, weights = ~sw2b, data=ase_pbihb_data)))\n",
        "s_msm2b <- summary(msm2b); print(s_msm2b)\n",
        "pt(s_msm2b$coefficients[7,3], df = msm2b$df.residual, lower.tail = TRUE) # p-value of one-sided t-test\n",
        "confint(msm2b)"
      ],
      "metadata": {
        "colab": {
          "base_uri": "https://localhost:8080/",
          "height": 720
        },
        "id": "nt5BbyV5aoFJ",
        "outputId": "ab819acc-e83f-4237-cbd3-5a83a3c7e015"
      },
      "execution_count": 47,
      "outputs": [
        {
          "output_type": "stream",
          "name": "stdout",
          "text": [
            "\n",
            "Call:\n",
            "svyglm(formula = CESD ~ FSS + GSES + FSS * GSES + age + gender + \n",
            "    MAIA_38, design = svydesign(~1, weights = ~sw2b, data = ase_pbihb_data))\n",
            "\n",
            "Survey design:\n",
            "svydesign(~1, weights = ~sw2b, data = ase_pbihb_data)\n",
            "\n",
            "Coefficients:\n",
            "                          Estimate Std. Error t value Pr(>|t|)    \n",
            "(Intercept)              0.0007122  0.1355534   0.005 0.995828    \n",
            "FSS                      0.1435016  0.1005018   1.428 0.159201    \n",
            "GSES                    -0.1429012  0.1150250  -1.242 0.219577    \n",
            "age                     -0.0411542  0.0907611  -0.453 0.652087    \n",
            "gender0.991631652042901  0.0838421  0.1982930   0.423 0.674138    \n",
            "MAIA_38                 -0.5467108  0.1429971  -3.823 0.000348 ***\n",
            "FSS:GSES                 0.0336774  0.0961944   0.350 0.727653    \n",
            "---\n",
            "Signif. codes:  0 ‘***’ 0.001 ‘**’ 0.01 ‘*’ 0.05 ‘.’ 0.1 ‘ ’ 1\n",
            "\n",
            "(Dispersion parameter for gaussian family taken to be 0.4980992)\n",
            "\n",
            "Number of Fisher Scoring iterations: 2\n",
            "\n"
          ]
        },
        {
          "output_type": "display_data",
          "data": {
            "text/html": [
              "0.636173323511199"
            ],
            "text/markdown": "0.636173323511199",
            "text/latex": "0.636173323511199",
            "text/plain": [
              "[1] 0.6361733"
            ]
          },
          "metadata": {}
        },
        {
          "output_type": "display_data",
          "data": {
            "text/html": [
              "<table class=\"dataframe\">\n",
              "<caption>A matrix: 7 × 2 of type dbl</caption>\n",
              "<thead>\n",
              "\t<tr><th></th><th scope=col>2.5 %</th><th scope=col>97.5 %</th></tr>\n",
              "</thead>\n",
              "<tbody>\n",
              "\t<tr><th scope=row>(Intercept)</th><td>-0.27117348</td><td> 0.27259783</td></tr>\n",
              "\t<tr><th scope=row>FSS</th><td>-0.05807939</td><td> 0.34508268</td></tr>\n",
              "\t<tr><th scope=row>GSES</th><td>-0.37361201</td><td> 0.08780966</td></tr>\n",
              "\t<tr><th scope=row>age</th><td>-0.22319789</td><td> 0.14088949</td></tr>\n",
              "\t<tr><th scope=row>gender0.991631652042901</th><td>-0.31388315</td><td> 0.48156745</td></tr>\n",
              "\t<tr><th scope=row>MAIA_38</th><td>-0.83352657</td><td>-0.25989505</td></tr>\n",
              "\t<tr><th scope=row>FSS:GSES</th><td>-0.15926417</td><td> 0.22661893</td></tr>\n",
              "</tbody>\n",
              "</table>\n"
            ],
            "text/markdown": "\nA matrix: 7 × 2 of type dbl\n\n| <!--/--> | 2.5 % | 97.5 % |\n|---|---|---|\n| (Intercept) | -0.27117348 |  0.27259783 |\n| FSS | -0.05807939 |  0.34508268 |\n| GSES | -0.37361201 |  0.08780966 |\n| age | -0.22319789 |  0.14088949 |\n| gender0.991631652042901 | -0.31388315 |  0.48156745 |\n| MAIA_38 | -0.83352657 | -0.25989505 |\n| FSS:GSES | -0.15926417 |  0.22661893 |\n\n",
            "text/latex": "A matrix: 7 × 2 of type dbl\n\\begin{tabular}{r|ll}\n  & 2.5 \\% & 97.5 \\%\\\\\n\\hline\n\t(Intercept) & -0.27117348 &  0.27259783\\\\\n\tFSS & -0.05807939 &  0.34508268\\\\\n\tGSES & -0.37361201 &  0.08780966\\\\\n\tage & -0.22319789 &  0.14088949\\\\\n\tgender0.991631652042901 & -0.31388315 &  0.48156745\\\\\n\tMAIA\\_38 & -0.83352657 & -0.25989505\\\\\n\tFSS:GSES & -0.15926417 &  0.22661893\\\\\n\\end{tabular}\n",
            "text/plain": [
              "                        2.5 %       97.5 %     \n",
              "(Intercept)             -0.27117348  0.27259783\n",
              "FSS                     -0.05807939  0.34508268\n",
              "GSES                    -0.37361201  0.08780966\n",
              "age                     -0.22319789  0.14088949\n",
              "gender0.991631652042901 -0.31388315  0.48156745\n",
              "MAIA_38                 -0.83352657 -0.25989505\n",
              "FSS:GSES                -0.15926417  0.22661893"
            ]
          },
          "metadata": {}
        }
      ]
    },
    {
      "cell_type": "code",
      "source": [
        "# _______________________________________\n",
        "## use doubleML for ECE\n",
        "\n",
        "# implement causal model (inference on effect of variable d on y, confounds (A,G,F,S))\n",
        "obj_dml_data2a <- double_ml_data_from_data_frame(df = ase_pbihb_data,\n",
        "                                                x_cols = c(\"FSS\",\"GSES\",\"age\",\"gender\"),\n",
        "                                                y_col = \"CESD\",\n",
        "                                                d_col = \"f_s_int\")\n",
        "\n",
        "# chose machine learning method\n",
        "n_vars = 4 #number of covariates x\n",
        "# init random forests learner with specified params\n",
        "ml_l2a = lrn(\"regr.ranger\", num.trees = 100, mtry = n_vars, min.node.size = 2, max.depth = 5)\n",
        "ml_m2a = lrn(\"regr.ranger\", num.trees = 100, mtry = n_vars, min.node.size = 2, max.depth = 5)\n",
        "ml_g2a = lrn(\"regr.ranger\", num.trees = 100, mtry = n_vars, min.node.size = 2, max.depth = 5)\n",
        "\n",
        "doubleml_plr2a = DoubleMLPLR$new(obj_dml_data2a, ml_l2a, ml_m2a, ml_g2a, n_folds = 2, score = \"IV-type\")\n",
        "\n",
        "# est causal effect of d on y\n",
        "set.seed(123)\n",
        "doubleml_plr2a$fit()\n",
        "doubleml_plr2a$summary()\n",
        "doubleml_plr2a$t_stat\n",
        "doubleml_plr2a$pval/2 # (one-sided p-value) = 0.5*(two-sided p-value)\n",
        "doubleml_plr2a$confint()"
      ],
      "metadata": {
        "colab": {
          "base_uri": "https://localhost:8080/",
          "height": 324
        },
        "id": "IMu1xH97apat",
        "outputId": "680a44b7-7598-4f8b-fd3f-a43ff24665da"
      },
      "execution_count": 48,
      "outputs": [
        {
          "output_type": "stream",
          "name": "stdout",
          "text": [
            "INFO  [14:17:48.330] [mlr3] Applying learner 'regr.ranger' on task 'nuis_l' (iter 1/2)\n",
            "INFO  [14:17:48.363] [mlr3] Applying learner 'regr.ranger' on task 'nuis_l' (iter 2/2)\n",
            "INFO  [14:17:48.525] [mlr3] Applying learner 'regr.ranger' on task 'nuis_m' (iter 1/2)\n",
            "INFO  [14:17:48.556] [mlr3] Applying learner 'regr.ranger' on task 'nuis_m' (iter 2/2)\n",
            "INFO  [14:17:48.722] [mlr3] Applying learner 'regr.ranger' on task 'nuis_g' (iter 1/2)\n",
            "INFO  [14:17:48.773] [mlr3] Applying learner 'regr.ranger' on task 'nuis_g' (iter 2/2)\n",
            "Estimates and significance testing of the effect of target variables\n",
            "        Estimate. Std. Error t value Pr(>|t|)\n",
            "f_s_int   -0.2051     0.1384  -1.482    0.138\n",
            "\n",
            "\n"
          ]
        },
        {
          "output_type": "display_data",
          "data": {
            "text/html": [
              "<strong>f_s_int:</strong> -1.48231542964486"
            ],
            "text/markdown": "**f_s_int:** -1.48231542964486",
            "text/latex": "\\textbf{f\\textbackslash{}\\_s\\textbackslash{}\\_int:} -1.48231542964486",
            "text/plain": [
              "  f_s_int \n",
              "-1.482315 "
            ]
          },
          "metadata": {}
        },
        {
          "output_type": "display_data",
          "data": {
            "text/html": [
              "<strong>f_s_int:</strong> 0.069128192323778"
            ],
            "text/markdown": "**f_s_int:** 0.069128192323778",
            "text/latex": "\\textbf{f\\textbackslash{}\\_s\\textbackslash{}\\_int:} 0.069128192323778",
            "text/plain": [
              "   f_s_int \n",
              "0.06912819 "
            ]
          },
          "metadata": {}
        },
        {
          "output_type": "display_data",
          "data": {
            "text/html": [
              "<table class=\"dataframe\">\n",
              "<caption>A matrix: 1 × 2 of type dbl</caption>\n",
              "<thead>\n",
              "\t<tr><th></th><th scope=col>2.5 %</th><th scope=col>97.5 %</th></tr>\n",
              "</thead>\n",
              "<tbody>\n",
              "\t<tr><th scope=row>f_s_int</th><td>-0.4762591</td><td>0.06608542</td></tr>\n",
              "</tbody>\n",
              "</table>\n"
            ],
            "text/markdown": "\nA matrix: 1 × 2 of type dbl\n\n| <!--/--> | 2.5 % | 97.5 % |\n|---|---|---|\n| f_s_int | -0.4762591 | 0.06608542 |\n\n",
            "text/latex": "A matrix: 1 × 2 of type dbl\n\\begin{tabular}{r|ll}\n  & 2.5 \\% & 97.5 \\%\\\\\n\\hline\n\tf\\_s\\_int & -0.4762591 & 0.06608542\\\\\n\\end{tabular}\n",
            "text/plain": [
              "        2.5 %      97.5 %    \n",
              "f_s_int -0.4762591 0.06608542"
            ]
          },
          "metadata": {}
        }
      ]
    },
    {
      "cell_type": "code",
      "source": [
        "## VAS: A,G,M\n",
        "# implement causal model (inference on effect of variable d on y, confounds (A,G,M,F,S))\n",
        "obj_dml_data2b <- double_ml_data_from_data_frame(df = ase_pbihb_data,\n",
        "                                               x_cols = c(\"FSS\",\"GSES\",\"MAIA_38\",\"age\",\"gender\"),\n",
        "                                               y_col = \"CESD\",\n",
        "                                               d_col = \"f_s_int\")\n",
        "\n",
        "# chose machine learning method\n",
        "n_vars = 5 #number of covariates x\n",
        "# init random forests learner with specified params\n",
        "ml_l2b = lrn(\"regr.ranger\", num.trees = 100, mtry = n_vars, min.node.size = 2, max.depth = 5)\n",
        "ml_m2b = lrn(\"regr.ranger\", num.trees = 100, mtry = n_vars, min.node.size = 2, max.depth = 5)\n",
        "ml_g2b = lrn(\"regr.ranger\", num.trees = 100, mtry = n_vars, min.node.size = 2, max.depth = 5)\n",
        "\n",
        "doubleml_plr2b = DoubleMLPLR$new(obj_dml_data2b, ml_l2b, ml_m2b, ml_g2b, n_folds = 2, score = \"IV-type\")\n",
        "\n",
        "# est causal effect of d on y\n",
        "set.seed(123)\n",
        "doubleml_plr2b$fit()\n",
        "doubleml_plr2b$summary()\n",
        "doubleml_plr2b$t_stat\n",
        "1 - doubleml_plr2b$pval/2 # (one-sided p-value) = 1 - 0.5*(two-sided p-value)\n",
        "doubleml_plr2b$confint()"
      ],
      "metadata": {
        "colab": {
          "base_uri": "https://localhost:8080/",
          "height": 324
        },
        "id": "CjYPyv3sTCCQ",
        "outputId": "91cbeeab-7532-4e4e-e1ef-dc3f1332e3fc"
      },
      "execution_count": 49,
      "outputs": [
        {
          "output_type": "stream",
          "name": "stdout",
          "text": [
            "INFO  [14:17:50.217] [mlr3] Applying learner 'regr.ranger' on task 'nuis_l' (iter 1/2)\n",
            "INFO  [14:17:50.249] [mlr3] Applying learner 'regr.ranger' on task 'nuis_l' (iter 2/2)\n",
            "INFO  [14:17:50.408] [mlr3] Applying learner 'regr.ranger' on task 'nuis_m' (iter 1/2)\n",
            "INFO  [14:17:50.439] [mlr3] Applying learner 'regr.ranger' on task 'nuis_m' (iter 2/2)\n",
            "INFO  [14:17:50.599] [mlr3] Applying learner 'regr.ranger' on task 'nuis_g' (iter 1/2)\n",
            "INFO  [14:17:50.630] [mlr3] Applying learner 'regr.ranger' on task 'nuis_g' (iter 2/2)\n",
            "Estimates and significance testing of the effect of target variables\n",
            "        Estimate. Std. Error t value Pr(>|t|)\n",
            "f_s_int   0.01527    0.15235     0.1     0.92\n",
            "\n",
            "\n"
          ]
        },
        {
          "output_type": "display_data",
          "data": {
            "text/html": [
              "<strong>f_s_int:</strong> 0.100255419633534"
            ],
            "text/markdown": "**f_s_int:** 0.100255419633534",
            "text/latex": "\\textbf{f\\textbackslash{}\\_s\\textbackslash{}\\_int:} 0.100255419633534",
            "text/plain": [
              "  f_s_int \n",
              "0.1002554 "
            ]
          },
          "metadata": {}
        },
        {
          "output_type": "display_data",
          "data": {
            "text/html": [
              "<strong>f_s_int:</strong> 0.539929225455302"
            ],
            "text/markdown": "**f_s_int:** 0.539929225455302",
            "text/latex": "\\textbf{f\\textbackslash{}\\_s\\textbackslash{}\\_int:} 0.539929225455302",
            "text/plain": [
              "  f_s_int \n",
              "0.5399292 "
            ]
          },
          "metadata": {}
        },
        {
          "output_type": "display_data",
          "data": {
            "text/html": [
              "<table class=\"dataframe\">\n",
              "<caption>A matrix: 1 × 2 of type dbl</caption>\n",
              "<thead>\n",
              "\t<tr><th></th><th scope=col>2.5 %</th><th scope=col>97.5 %</th></tr>\n",
              "</thead>\n",
              "<tbody>\n",
              "\t<tr><th scope=row>f_s_int</th><td>-0.2833263</td><td>0.3138741</td></tr>\n",
              "</tbody>\n",
              "</table>\n"
            ],
            "text/markdown": "\nA matrix: 1 × 2 of type dbl\n\n| <!--/--> | 2.5 % | 97.5 % |\n|---|---|---|\n| f_s_int | -0.2833263 | 0.3138741 |\n\n",
            "text/latex": "A matrix: 1 × 2 of type dbl\n\\begin{tabular}{r|ll}\n  & 2.5 \\% & 97.5 \\%\\\\\n\\hline\n\tf\\_s\\_int & -0.2833263 & 0.3138741\\\\\n\\end{tabular}\n",
            "text/plain": [
              "        2.5 %      97.5 %   \n",
              "f_s_int -0.2833263 0.3138741"
            ]
          },
          "metadata": {}
        }
      ]
    }
  ]
}